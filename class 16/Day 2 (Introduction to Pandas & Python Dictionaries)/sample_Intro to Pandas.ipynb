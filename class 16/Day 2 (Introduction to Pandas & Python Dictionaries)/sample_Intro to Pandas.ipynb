{
 "cells": [
  {
   "cell_type": "markdown",
   "id": "3ae26d25-2554-499f-a93a-2bdd4d5da8c9",
   "metadata": {},
   "source": [
    "### Recap\n",
    "- countries\n",
    "- populations"
   ]
  },
  {
   "cell_type": "code",
   "execution_count": 9,
   "id": "e8c165e9-6c9f-4d1e-aa40-067a97aa5d60",
   "metadata": {},
   "outputs": [],
   "source": [
    "import pandas as pd"
   ]
  },
  {
   "cell_type": "code",
   "execution_count": 5,
   "id": "6f56132b-f785-4c24-9e1e-3244aed72619",
   "metadata": {},
   "outputs": [
    {
     "data": {
      "text/plain": [
       "0"
      ]
     },
     "execution_count": 5,
     "metadata": {},
     "output_type": "execute_result"
    }
   ],
   "source": [
    "pop=[30.35,564.1,850.5]\n",
    "countires=[\"pak\",\"afg\",\"india\"]\n",
    "index=countires.index(\"pak\")\n",
    "index"
   ]
  },
  {
   "cell_type": "markdown",
   "id": "07e18149-60f9-420b-a28a-2f07ed35a66b",
   "metadata": {},
   "source": [
    "This way of extracting values is not adaptable because:\n",
    "- Not convenient\n",
    "- Not intutive\n",
    "\n",
    "Solution is **Dictionaries**"
   ]
  },
  {
   "cell_type": "markdown",
   "id": "71a0cbec-d158-434e-944e-6e89e0552d15",
   "metadata": {},
   "source": [
    "## Dictionaries\n",
    "- Accept different type\n",
    "- Keys have to be \"immutable\" objects ->> Error\n",
    "- add values\n",
    "- edit value\n",
    "- **in** Keyword\n",
    "- delete any element"
   ]
  },
  {
   "cell_type": "markdown",
   "id": "f260fec1-4d56-4931-9f46-d21201d5a5a2",
   "metadata": {},
   "source": [
    "## List vs Dictionaries"
   ]
  },
  {
   "cell_type": "markdown",
   "id": "1d61230c-508e-4c1b-9116-004fb689b5e4",
   "metadata": {},
   "source": [
    "## Introudction to Pandas\n",
    "- ##### Question: How can we store that data in python ? \n",
    "- Numpy Array (absolutely **NO** because in Numpy we save data of same type)"
   ]
  },
  {
   "cell_type": "markdown",
   "id": "d0258ca8-6fc1-4b93-817a-66bbdf38c5c5",
   "metadata": {},
   "source": [
    "### Answer:  Pandas \n",
    "- high level  data manipulation\n",
    "- Wes Mckinney\n",
    "- built on Numpy\n",
    "- Data Frame\n",
    "- special concept of Series"
   ]
  },
  {
   "cell_type": "markdown",
   "id": "309d137a-6076-4764-ac6a-925e0f0c5780",
   "metadata": {},
   "source": [
    "## Case Study: population dataset of BRICS countries\n",
    "- NOTE:\n",
    "   - key (columns, label)\n",
    "   - values(data, column by column)"
   ]
  },
  {
   "cell_type": "markdown",
   "id": "aa70edf0-548f-4247-9983-cdf0191d00c9",
   "metadata": {},
   "source": [
    "### CREATING DATAFRAME"
   ]
  },
  {
   "cell_type": "raw",
   "id": "a3ae4a50-372a-4638-a2c7-d2cb34312038",
   "metadata": {},
   "source": [
    "bricks = {\"country\": ['Brazil', 'Russia', 'India', 'China', 'South Africa'],\n",
    "         \"capital\": ['Brazilia', 'Moscow', 'New Delhi', 'Beijing', 'Pretoria'],\n",
    "         \"area\": [8.516, 17.100, 3.286, 9.597, 1.221],\n",
    "         \"population\": [200.40, 143.50, 1252.00, 1357.00, 52.98]}"
   ]
  },
  {
   "cell_type": "code",
   "execution_count": null,
   "id": "a26ad9a9-0c17-49b4-9faa-f4d70cc23083",
   "metadata": {},
   "outputs": [],
   "source": []
  },
  {
   "cell_type": "markdown",
   "id": "fc48531d-bef5-474e-b960-a74473bccf1a",
   "metadata": {},
   "source": [
    "change index values `df.index = []`"
   ]
  },
  {
   "cell_type": "markdown",
   "id": "dc10dc53-eb96-4239-adf3-68d1d60d85e6",
   "metadata": {},
   "source": [
    "#### another way to create DATAFRAME is through csv (comma seperated files)"
   ]
  },
  {
   "cell_type": "markdown",
   "id": "be050816-ddcf-4d3c-975d-bd529e4030a3",
   "metadata": {},
   "source": [
    "assume we have **'bricks.csv'** file in our directory"
   ]
  },
  {
   "cell_type": "code",
   "execution_count": 13,
   "id": "527f53e7-e42d-410f-887b-339ce9f23205",
   "metadata": {},
   "outputs": [
    {
     "data": {
      "text/html": [
       "<div>\n",
       "<style scoped>\n",
       "    .dataframe tbody tr th:only-of-type {\n",
       "        vertical-align: middle;\n",
       "    }\n",
       "\n",
       "    .dataframe tbody tr th {\n",
       "        vertical-align: top;\n",
       "    }\n",
       "\n",
       "    .dataframe thead th {\n",
       "        text-align: right;\n",
       "    }\n",
       "</style>\n",
       "<table border=\"1\" class=\"dataframe\">\n",
       "  <thead>\n",
       "    <tr style=\"text-align: right;\">\n",
       "      <th></th>\n",
       "      <th>country</th>\n",
       "      <th>capital</th>\n",
       "      <th>area</th>\n",
       "      <th>population</th>\n",
       "    </tr>\n",
       "  </thead>\n",
       "  <tbody>\n",
       "    <tr>\n",
       "      <th>BR</th>\n",
       "      <td>Brazil</td>\n",
       "      <td>Brasilia</td>\n",
       "      <td>8.516</td>\n",
       "      <td>200.40</td>\n",
       "    </tr>\n",
       "    <tr>\n",
       "      <th>RU</th>\n",
       "      <td>Russia</td>\n",
       "      <td>Moscow</td>\n",
       "      <td>17.100</td>\n",
       "      <td>143.50</td>\n",
       "    </tr>\n",
       "    <tr>\n",
       "      <th>IN</th>\n",
       "      <td>India</td>\n",
       "      <td>New Delhi</td>\n",
       "      <td>3.286</td>\n",
       "      <td>1252.00</td>\n",
       "    </tr>\n",
       "    <tr>\n",
       "      <th>CH</th>\n",
       "      <td>China</td>\n",
       "      <td>Beijing</td>\n",
       "      <td>9.597</td>\n",
       "      <td>1357.00</td>\n",
       "    </tr>\n",
       "    <tr>\n",
       "      <th>SA</th>\n",
       "      <td>South Africa</td>\n",
       "      <td>Pretoria</td>\n",
       "      <td>1.221</td>\n",
       "      <td>52.98</td>\n",
       "    </tr>\n",
       "  </tbody>\n",
       "</table>\n",
       "</div>"
      ],
      "text/plain": [
       "         country    capital    area  population\n",
       "BR        Brazil   Brasilia   8.516      200.40\n",
       "RU        Russia     Moscow  17.100      143.50\n",
       "IN         India  New Delhi   3.286     1252.00\n",
       "CH         China    Beijing   9.597     1357.00\n",
       "SA  South Africa   Pretoria   1.221       52.98"
      ]
     },
     "execution_count": 13,
     "metadata": {},
     "output_type": "execute_result"
    }
   ],
   "source": [
    "bricks_csv= pd.read_csv(\"./dataset/bricks.csv\",index_col=0)\n",
    "bricks_csv"
   ]
  },
  {
   "cell_type": "markdown",
   "id": "e67b3e75-f109-4544-8c3b-47791edb2c98",
   "metadata": {},
   "source": [
    "### index and select data\n",
    "- square brakets (type--> series) & double squrae brakets (type --> DataFrame)\n",
    "- advance methods\n",
    "    - loc\n",
    "    - iloc"
   ]
  },
  {
   "cell_type": "code",
   "execution_count": 17,
   "id": "a988762f-89f2-4db9-a8ab-6e3e0f5e6889",
   "metadata": {},
   "outputs": [
    {
     "data": {
      "text/plain": [
       "pandas.core.series.Series"
      ]
     },
     "execution_count": 17,
     "metadata": {},
     "output_type": "execute_result"
    }
   ],
   "source": [
    "type(bricks_csv.country)"
   ]
  },
  {
   "cell_type": "code",
   "execution_count": 19,
   "id": "4dfb1c31-6434-4fd3-8e2d-14cc34fb9a21",
   "metadata": {},
   "outputs": [
    {
     "data": {
      "text/plain": [
       "BR     8.516\n",
       "RU    17.100\n",
       "IN     3.286\n",
       "CH     9.597\n",
       "SA     1.221\n",
       "Name: area, dtype: float64"
      ]
     },
     "execution_count": 19,
     "metadata": {},
     "output_type": "execute_result"
    }
   ],
   "source": [
    "bricks_csv.area"
   ]
  },
  {
   "cell_type": "code",
   "execution_count": 25,
   "id": "071317e5-6353-4024-8d65-479dd1aa7830",
   "metadata": {},
   "outputs": [
    {
     "data": {
      "text/html": [
       "<div>\n",
       "<style scoped>\n",
       "    .dataframe tbody tr th:only-of-type {\n",
       "        vertical-align: middle;\n",
       "    }\n",
       "\n",
       "    .dataframe tbody tr th {\n",
       "        vertical-align: top;\n",
       "    }\n",
       "\n",
       "    .dataframe thead th {\n",
       "        text-align: right;\n",
       "    }\n",
       "</style>\n",
       "<table border=\"1\" class=\"dataframe\">\n",
       "  <thead>\n",
       "    <tr style=\"text-align: right;\">\n",
       "      <th></th>\n",
       "      <th>area</th>\n",
       "      <th>population</th>\n",
       "    </tr>\n",
       "  </thead>\n",
       "  <tbody>\n",
       "    <tr>\n",
       "      <th>BR</th>\n",
       "      <td>8.516</td>\n",
       "      <td>200.40</td>\n",
       "    </tr>\n",
       "    <tr>\n",
       "      <th>RU</th>\n",
       "      <td>17.100</td>\n",
       "      <td>143.50</td>\n",
       "    </tr>\n",
       "    <tr>\n",
       "      <th>IN</th>\n",
       "      <td>3.286</td>\n",
       "      <td>1252.00</td>\n",
       "    </tr>\n",
       "    <tr>\n",
       "      <th>CH</th>\n",
       "      <td>9.597</td>\n",
       "      <td>1357.00</td>\n",
       "    </tr>\n",
       "    <tr>\n",
       "      <th>SA</th>\n",
       "      <td>1.221</td>\n",
       "      <td>52.98</td>\n",
       "    </tr>\n",
       "  </tbody>\n",
       "</table>\n",
       "</div>"
      ],
      "text/plain": [
       "      area  population\n",
       "BR   8.516      200.40\n",
       "RU  17.100      143.50\n",
       "IN   3.286     1252.00\n",
       "CH   9.597     1357.00\n",
       "SA   1.221       52.98"
      ]
     },
     "execution_count": 25,
     "metadata": {},
     "output_type": "execute_result"
    }
   ],
   "source": [
    "bricks_csv[[\"area\",\"population\"]]  #method 2 of column slicing"
   ]
  },
  {
   "cell_type": "code",
   "execution_count": 35,
   "id": "ea25bbc6-c8e2-453f-8748-be1aa66d86f3",
   "metadata": {},
   "outputs": [
    {
     "data": {
      "text/html": [
       "<div>\n",
       "<style scoped>\n",
       "    .dataframe tbody tr th:only-of-type {\n",
       "        vertical-align: middle;\n",
       "    }\n",
       "\n",
       "    .dataframe tbody tr th {\n",
       "        vertical-align: top;\n",
       "    }\n",
       "\n",
       "    .dataframe thead th {\n",
       "        text-align: right;\n",
       "    }\n",
       "</style>\n",
       "<table border=\"1\" class=\"dataframe\">\n",
       "  <thead>\n",
       "    <tr style=\"text-align: right;\">\n",
       "      <th></th>\n",
       "      <th>country</th>\n",
       "      <th>capital</th>\n",
       "      <th>area</th>\n",
       "      <th>population</th>\n",
       "    </tr>\n",
       "  </thead>\n",
       "  <tbody>\n",
       "    <tr>\n",
       "      <th>BR</th>\n",
       "      <td>Brazil</td>\n",
       "      <td>Brasilia</td>\n",
       "      <td>8.516</td>\n",
       "      <td>200.4</td>\n",
       "    </tr>\n",
       "    <tr>\n",
       "      <th>RU</th>\n",
       "      <td>Russia</td>\n",
       "      <td>Moscow</td>\n",
       "      <td>17.100</td>\n",
       "      <td>143.5</td>\n",
       "    </tr>\n",
       "    <tr>\n",
       "      <th>IN</th>\n",
       "      <td>India</td>\n",
       "      <td>New Delhi</td>\n",
       "      <td>3.286</td>\n",
       "      <td>1252.0</td>\n",
       "    </tr>\n",
       "  </tbody>\n",
       "</table>\n",
       "</div>"
      ],
      "text/plain": [
       "   country    capital    area  population\n",
       "BR  Brazil   Brasilia   8.516       200.4\n",
       "RU  Russia     Moscow  17.100       143.5\n",
       "IN   India  New Delhi   3.286      1252.0"
      ]
     },
     "execution_count": 35,
     "metadata": {},
     "output_type": "execute_result"
    }
   ],
   "source": [
    "df=pd.DataFrame(bricks_csv)\n",
    "df.loc[['BR','RU','IN']]"
   ]
  },
  {
   "cell_type": "markdown",
   "id": "1974ac01-57db-4aa3-88bf-21152af912d1",
   "metadata": {},
   "source": [
    "### Question What if we want specific columns and rows ?\n",
    "###### Key points about [ ] square brakets\n",
    "\n",
    "- square bralets have limited functionality\n",
    "- ideally \n",
    "    - Remember **2D Numpy array** in numpy\n",
    "    - ``my_arr[row, col]``\n",
    "- pandas\n",
    "    - ``loc``(label based)\n",
    "    - ``iloc`` (index based)"
   ]
  },
  {
   "cell_type": "code",
   "execution_count": null,
   "id": "0acb6945-809c-4b53-a4e8-a06226b0b403",
   "metadata": {},
   "outputs": [],
   "source": []
  },
  {
   "cell_type": "code",
   "execution_count": 4,
   "id": "db2e8042-3d37-4aaa-969f-7e1bae3587dc",
   "metadata": {},
   "outputs": [],
   "source": [
    "# rows as pandas series `[]` & dataframe `[[]]`"
   ]
  },
  {
   "cell_type": "code",
   "execution_count": 5,
   "id": "1c7bc005-75b1-4b03-b2d2-1e5f0247118d",
   "metadata": {},
   "outputs": [],
   "source": [
    "# specific rows more than one"
   ]
  },
  {
   "cell_type": "code",
   "execution_count": null,
   "id": "94573d2f-2341-465b-8838-8352f7ff33bc",
   "metadata": {},
   "outputs": [],
   "source": [
    "# specific rows and columns"
   ]
  },
  {
   "cell_type": "code",
   "execution_count": 6,
   "id": "32d13d6a-4182-4067-9518-32f882040bdf",
   "metadata": {},
   "outputs": [],
   "source": [
    "# try slicing with it"
   ]
  },
  {
   "cell_type": "markdown",
   "id": "b35e3e26-b2ca-4787-973a-bb418bd14289",
   "metadata": {},
   "source": [
    "#### Quick Recap\n",
    "\n",
    "- Square brakets\n",
    "\n",
    "    - column access --> ``bricks.csv[['country', 'capital']]``\n",
    "    - row access (only through slicing) --> ``bricks_csv[1:4]``\n",
    "    \n",
    "- loc(label-based) remeber ``arr[rows, columns]``\n",
    "\n",
    "    - row access --> ``bricks_csv.loc[['BR', 'IN']]``\n",
    "    - columns access --> ``bricks_csv.loc[:['country', 'capital']]``\n",
    "    - both rows and columns --> <br>\n",
    "    ``bricks_csv.loc[['BR', 'IN'], ['country', 'capital']]``"
   ]
  },
  {
   "cell_type": "markdown",
   "id": "2c4c54d1-8532-4451-87b9-28428991ca42",
   "metadata": {},
   "source": [
    "### Accessing values with iloc[]"
   ]
  },
  {
   "cell_type": "code",
   "execution_count": null,
   "id": "31f81381-4664-4bca-b01b-ba0b13219ecb",
   "metadata": {},
   "outputs": [],
   "source": []
  }
 ],
 "metadata": {
  "kernelspec": {
   "display_name": "Python 3 (ipykernel)",
   "language": "python",
   "name": "python3"
  },
  "language_info": {
   "codemirror_mode": {
    "name": "ipython",
    "version": 3
   },
   "file_extension": ".py",
   "mimetype": "text/x-python",
   "name": "python",
   "nbconvert_exporter": "python",
   "pygments_lexer": "ipython3",
   "version": "3.12.7"
  }
 },
 "nbformat": 4,
 "nbformat_minor": 5
}
