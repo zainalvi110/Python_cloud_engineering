{
 "cells": [
  {
   "cell_type": "markdown",
   "id": "3ae26d25-2554-499f-a93a-2bdd4d5da8c9",
   "metadata": {},
   "source": [
    "### Recap\n",
    "- countries\n",
    "- populations"
   ]
  },
  {
   "cell_type": "code",
   "execution_count": null,
   "id": "6f56132b-f785-4c24-9e1e-3244aed72619",
   "metadata": {},
   "outputs": [],
   "source": []
  },
  {
   "cell_type": "markdown",
   "id": "07e18149-60f9-420b-a28a-2f07ed35a66b",
   "metadata": {},
   "source": [
    "This way of extracting values is not adaptable because:\n",
    "- Not convenient\n",
    "- Not intutive\n",
    "\n",
    "Solution is **Dictionaries**"
   ]
  },
  {
   "cell_type": "markdown",
   "id": "71a0cbec-d158-434e-944e-6e89e0552d15",
   "metadata": {},
   "source": [
    "## Dictionaries\n",
    "- Accept different type\n",
    "- Keys have to be \"immutable\" objects ->> Error\n",
    "- add values\n",
    "- edit value\n",
    "- **in** Keyword\n",
    "- delete any element"
   ]
  },
  {
   "cell_type": "markdown",
   "id": "f260fec1-4d56-4931-9f46-d21201d5a5a2",
   "metadata": {},
   "source": [
    "## List vs Dictionaries"
   ]
  },
  {
   "cell_type": "markdown",
   "id": "1d61230c-508e-4c1b-9116-004fb689b5e4",
   "metadata": {},
   "source": [
    "## Introudction to Pandas\n",
    "- ##### Question: How can we store that data in python ? \n",
    "- Numpy Array (absolutely **NO** because in Numpy we save data of same type)"
   ]
  },
  {
   "cell_type": "markdown",
   "id": "d0258ca8-6fc1-4b93-817a-66bbdf38c5c5",
   "metadata": {},
   "source": [
    "### Answer:  Pandas \n",
    "- high level  data manipulation\n",
    "- Wes Mckinney\n",
    "- built on Numpy\n",
    "- Data Frame\n",
    "- special concept of Series"
   ]
  },
  {
   "cell_type": "markdown",
   "id": "309d137a-6076-4764-ac6a-925e0f0c5780",
   "metadata": {},
   "source": [
    "## Case Study: population dataset of BRICS countries\n",
    "- NOTE:\n",
    "   - key (columns, label)\n",
    "   - values(data, column by column)"
   ]
  },
  {
   "cell_type": "markdown",
   "id": "aa70edf0-548f-4247-9983-cdf0191d00c9",
   "metadata": {},
   "source": [
    "### CREATING DATAFRAME"
   ]
  },
  {
   "cell_type": "raw",
   "id": "a3ae4a50-372a-4638-a2c7-d2cb34312038",
   "metadata": {},
   "source": [
    "bricks = {\"country\": ['Brazil', 'Russia', 'India', 'China', 'South Africa'],\n",
    "         \"capital\": ['Brazilia', 'Moscow', 'New Delhi', 'Beijing', 'Pretoria'],\n",
    "         \"area\": [8.516, 17.100, 3.286, 9.597, 1.221],\n",
    "         \"population\": [200.40, 143.50, 1252.00, 1357.00, 52.98]}"
   ]
  },
  {
   "cell_type": "code",
   "execution_count": null,
   "id": "a26ad9a9-0c17-49b4-9faa-f4d70cc23083",
   "metadata": {},
   "outputs": [],
   "source": []
  },
  {
   "cell_type": "markdown",
   "id": "fc48531d-bef5-474e-b960-a74473bccf1a",
   "metadata": {},
   "source": [
    "change index values `df.index = []`"
   ]
  },
  {
   "cell_type": "markdown",
   "id": "dc10dc53-eb96-4239-adf3-68d1d60d85e6",
   "metadata": {},
   "source": [
    "#### another way to create DATAFRAME is through csv (comma seperated files)"
   ]
  },
  {
   "cell_type": "markdown",
   "id": "be050816-ddcf-4d3c-975d-bd529e4030a3",
   "metadata": {},
   "source": [
    "assume we have **'bricks.csv'** file in our directory"
   ]
  },
  {
   "cell_type": "markdown",
   "id": "e67b3e75-f109-4544-8c3b-47791edb2c98",
   "metadata": {},
   "source": [
    "### index and select data\n",
    "- square brakets (type--> series) & double squrae brakets (type --> DataFrame)\n",
    "- advance methods\n",
    "    - loc\n",
    "    - iloc"
   ]
  },
  {
   "cell_type": "markdown",
   "id": "1974ac01-57db-4aa3-88bf-21152af912d1",
   "metadata": {},
   "source": [
    "### Question What if we want specific columns and rows ?\n",
    "###### Key points about [ ] square brakets\n",
    "\n",
    "- square bralets have limited functionality\n",
    "- ideally \n",
    "    - Remember **2D Numpy array** in numpy\n",
    "    - ``my_arr[row, col]``\n",
    "- pandas\n",
    "    - ``loc``(label based)\n",
    "    - ``iloc`` (index based)"
   ]
  },
  {
   "cell_type": "code",
   "execution_count": 4,
   "id": "db2e8042-3d37-4aaa-969f-7e1bae3587dc",
   "metadata": {},
   "outputs": [],
   "source": [
    "# rows as pandas series `[]` & dataframe `[[]]`"
   ]
  },
  {
   "cell_type": "code",
   "execution_count": 5,
   "id": "1c7bc005-75b1-4b03-b2d2-1e5f0247118d",
   "metadata": {},
   "outputs": [],
   "source": [
    "# specific rows more than one"
   ]
  },
  {
   "cell_type": "code",
   "execution_count": null,
   "id": "94573d2f-2341-465b-8838-8352f7ff33bc",
   "metadata": {},
   "outputs": [],
   "source": [
    "# specific rows and columns"
   ]
  },
  {
   "cell_type": "code",
   "execution_count": 6,
   "id": "32d13d6a-4182-4067-9518-32f882040bdf",
   "metadata": {},
   "outputs": [],
   "source": [
    "# try slicing with it"
   ]
  },
  {
   "cell_type": "markdown",
   "id": "b35e3e26-b2ca-4787-973a-bb418bd14289",
   "metadata": {},
   "source": [
    "#### Quick Recap\n",
    "\n",
    "- Square brakets\n",
    "\n",
    "    - column access --> ``bricks.csv[['country', 'capital']]``\n",
    "    - row access (only through slicing) --> ``bricks_csv[1:4]``\n",
    "    \n",
    "- loc(label-based) remeber ``arr[rows, columns]``\n",
    "\n",
    "    - row access --> ``bricks_csv.loc[['BR', 'IN']]``\n",
    "    - columns access --> ``bricks_csv.loc[:['country', 'capital']]``\n",
    "    - both rows and columns --> <br>\n",
    "    ``bricks_csv.loc[['BR', 'IN'], ['country', 'capital']]``"
   ]
  },
  {
   "cell_type": "markdown",
   "id": "2c4c54d1-8532-4451-87b9-28428991ca42",
   "metadata": {},
   "source": [
    "### Accessing values with iloc[]"
   ]
  },
  {
   "cell_type": "code",
   "execution_count": null,
   "id": "31f81381-4664-4bca-b01b-ba0b13219ecb",
   "metadata": {},
   "outputs": [],
   "source": []
  }
 ],
 "metadata": {
  "kernelspec": {
   "display_name": "Python 3 (ipykernel)",
   "language": "python",
   "name": "python3"
  },
  "language_info": {
   "codemirror_mode": {
    "name": "ipython",
    "version": 3
   },
   "file_extension": ".py",
   "mimetype": "text/x-python",
   "name": "python",
   "nbconvert_exporter": "python",
   "pygments_lexer": "ipython3",
   "version": "3.11.7"
  }
 },
 "nbformat": 4,
 "nbformat_minor": 5
}
