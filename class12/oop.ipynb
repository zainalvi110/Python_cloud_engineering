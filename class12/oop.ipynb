{
 "cells": [
  {
   "cell_type": "markdown",
   "id": "dfcd5e6a-2198-43e1-9f4a-043bc07586c6",
   "metadata": {},
   "source": [
    "# OOP"
   ]
  },
  {
   "cell_type": "markdown",
   "id": "930804ce-0e6c-4278-b75d-2c2136805d52",
   "metadata": {},
   "source": [
    "### inheritance"
   ]
  },
  {
   "cell_type": "markdown",
   "id": "d4b9225d-3570-4eb0-8f4e-d6ba93abbac8",
   "metadata": {},
   "source": [
    "###  multi class inherit"
   ]
  },
  {
   "cell_type": "code",
   "execution_count": 8,
   "id": "d3233a81-3573-4f46-a3c2-7239607223aa",
   "metadata": {},
   "outputs": [],
   "source": [
    "class father():\n",
    "    def __init__(self,haircolor):\n",
    "        self.haircolor=haircolor\n",
    "\n",
    "    def drive(self):\n",
    "        print(\"can drive\")\n",
    "\n",
    "class mother():\n",
    "    def __init__(self,eyecolor):\n",
    "        self.eyecolor=eyecolor\n",
    "\n",
    "    def cooking(self):\n",
    "        print(\"can do cooking\")\n",
    "\n",
    "class child(father,mother):\n",
    "    def __init__(self,name,haircolor,eyecolor):\n",
    "        father.__init__(self,haircolor)\n",
    "        mother.__init__(self,eyecolor)\n",
    "        self.name=name\n",
    "\n",
    "    def playfootball(self):\n",
    "        print(\"can play\")\n",
    "        "
   ]
  },
  {
   "cell_type": "code",
   "execution_count": 10,
   "id": "5d233c12-b0da-4dd8-8720-a0b7a5039d76",
   "metadata": {},
   "outputs": [],
   "source": [
    "child_obj= child(\"zain\",\"black\",\"brown\")"
   ]
  },
  {
   "cell_type": "code",
   "execution_count": 12,
   "id": "f130cf74-2625-4bf9-bdc6-5bbb912b1c26",
   "metadata": {},
   "outputs": [
    {
     "name": "stdout",
     "output_type": "stream",
     "text": [
      "can play\n"
     ]
    }
   ],
   "source": [
    "child_obj.playfootball()"
   ]
  },
  {
   "cell_type": "code",
   "execution_count": 14,
   "id": "c3fa002b-09e9-4f14-981c-1619af3bf2f6",
   "metadata": {},
   "outputs": [
    {
     "name": "stdout",
     "output_type": "stream",
     "text": [
      "can do cooking\n"
     ]
    }
   ],
   "source": [
    "child_obj.cooking()"
   ]
  },
  {
   "cell_type": "code",
   "execution_count": 16,
   "id": "514e1646-3c3a-4523-ac23-a1eb319acbad",
   "metadata": {},
   "outputs": [
    {
     "name": "stdout",
     "output_type": "stream",
     "text": [
      "can drive\n"
     ]
    }
   ],
   "source": [
    "child_obj.drive()"
   ]
  },
  {
   "cell_type": "code",
   "execution_count": 42,
   "id": "6ecdd1c8-d02b-4894-a525-0cf408f03525",
   "metadata": {},
   "outputs": [],
   "source": [
    "class Vehicle():\n",
    "    def __init__(self, started, speed):\n",
    "        self.started = started  # Use the parameter instead of hardcoding \"yes\"\n",
    "        self.speed = speed     # Use the parameter instead of hardcoding 120\n",
    "    \n",
    "    def start(self):\n",
    "        print(\"has started\")\n",
    "    \n",
    "    def increase_speed(self, speed):\n",
    "        self.speed = speed  # Update the speed attribute\n",
    "        print(\"speed is now \" + str(speed))\n",
    "\n",
    "class Car(Vehicle):\n",
    "    def __init__(self, started, speed, trunk):\n",
    "        super().__init__(started, speed)  # Call parent class initialization\n",
    "        self.trunk = trunk\n",
    "    \n",
    "    def open_trunk(self):\n",
    "        print(\"trunk opened\")\n",
    "    \n",
    "    def close_trunk(self):\n",
    "        print(\"trunk closed\")\n",
    "\n",
    "class Motorcycle(Vehicle):\n",
    "    def __init__(self, started, speed, center_stand_out):\n",
    "        super().__init__(started, speed)  # Call parent class initialization\n",
    "        self.stand_out = center_stand_out\n",
    "    \n",
    "    \n",
    "   "
   ]
  },
  {
   "cell_type": "code",
   "execution_count": 28,
   "id": "f6adeac7-fb64-428d-beef-0165889c9f5d",
   "metadata": {},
   "outputs": [],
   "source": [
    "car_obj= car(\"open\")"
   ]
  },
  {
   "cell_type": "code",
   "execution_count": 30,
   "id": "5e254c41-8a91-4791-82f9-e07e8d040621",
   "metadata": {},
   "outputs": [
    {
     "name": "stdout",
     "output_type": "stream",
     "text": [
      "has started\n"
     ]
    }
   ],
   "source": [
    "car_obj.start()"
   ]
  },
  {
   "cell_type": "code",
   "execution_count": 40,
   "id": "32a65a64-4134-48a7-9891-1233969b110d",
   "metadata": {},
   "outputs": [],
   "source": [
    "bike_obj=motorcycle(True)"
   ]
  },
  {
   "cell_type": "code",
   "execution_count": 44,
   "id": "33b37fb6-4132-4636-ae66-7e7106f98894",
   "metadata": {},
   "outputs": [
    {
     "ename": "TypeError",
     "evalue": "vehicle.increase_speed() missing 1 required positional argument: 'speed'",
     "output_type": "error",
     "traceback": [
      "\u001b[1;31m---------------------------------------------------------------------------\u001b[0m",
      "\u001b[1;31mTypeError\u001b[0m                                 Traceback (most recent call last)",
      "Cell \u001b[1;32mIn[44], line 1\u001b[0m\n\u001b[1;32m----> 1\u001b[0m car_obj\u001b[38;5;241m.\u001b[39mincrease_speed()\n",
      "\u001b[1;31mTypeError\u001b[0m: vehicle.increase_speed() missing 1 required positional argument: 'speed'"
     ]
    }
   ],
   "source": [
    "car_obj.increase_speed()"
   ]
  },
  {
   "cell_type": "code",
   "execution_count": 46,
   "id": "61ff411d-1ad1-435c-bda3-d349c4d2f255",
   "metadata": {},
   "outputs": [
    {
     "ename": "TypeError",
     "evalue": "vehicle.increase_speed() missing 1 required positional argument: 'speed'",
     "output_type": "error",
     "traceback": [
      "\u001b[1;31m---------------------------------------------------------------------------\u001b[0m",
      "\u001b[1;31mTypeError\u001b[0m                                 Traceback (most recent call last)",
      "Cell \u001b[1;32mIn[46], line 1\u001b[0m\n\u001b[1;32m----> 1\u001b[0m vehicle\u001b[38;5;241m.\u001b[39mincrease_speed(\u001b[38;5;241m160\u001b[39m)\n",
      "\u001b[1;31mTypeError\u001b[0m: vehicle.increase_speed() missing 1 required positional argument: 'speed'"
     ]
    }
   ],
   "source": [
    "vehicle.increase_speed(160)"
   ]
  },
  {
   "cell_type": "markdown",
   "id": "b72334f4-5805-4e5a-8e7e-2e4eca03ab3d",
   "metadata": {},
   "source": [
    "# ABSTRACTION "
   ]
  },
  {
   "cell_type": "code",
   "execution_count": 58,
   "id": "cfd54d2c-7e79-4065-baec-a3d9cab29911",
   "metadata": {},
   "outputs": [],
   "source": [
    "class shapes():\n",
    "\n",
    "    def sides(self):\n",
    "        pass"
   ]
  },
  {
   "cell_type": "code",
   "execution_count": 64,
   "id": "34bcc1a9-b190-4cba-84af-933e3c39eb6c",
   "metadata": {},
   "outputs": [],
   "source": [
    "class traingle(shapes):\n",
    "    def sides(self):\n",
    "        print(\"trinagle has 3 sides\")\n",
    "\n",
    "class square(shapes):\n",
    "    def sides(self):\n",
    "        print(\"square has 4 sides\")"
   ]
  },
  {
   "cell_type": "code",
   "execution_count": 54,
   "id": "bebe1445-66f2-4355-bbfc-ab284eb1dd79",
   "metadata": {},
   "outputs": [
    {
     "data": {
      "text/plain": [
       "<__main__.traingle at 0x26fc055f0b0>"
      ]
     },
     "execution_count": 54,
     "metadata": {},
     "output_type": "execute_result"
    }
   ],
   "source": [
    "traingle()"
   ]
  },
  {
   "cell_type": "code",
   "execution_count": 62,
   "id": "37795eac-8432-443d-b710-1817eb507e40",
   "metadata": {},
   "outputs": [
    {
     "ename": "TypeError",
     "evalue": "traingle.sides() missing 1 required positional argument: 'self'",
     "output_type": "error",
     "traceback": [
      "\u001b[1;31m---------------------------------------------------------------------------\u001b[0m",
      "\u001b[1;31mTypeError\u001b[0m                                 Traceback (most recent call last)",
      "Cell \u001b[1;32mIn[62], line 1\u001b[0m\n\u001b[1;32m----> 1\u001b[0m traingle\u001b[38;5;241m.\u001b[39msides()\n",
      "\u001b[1;31mTypeError\u001b[0m: traingle.sides() missing 1 required positional argument: 'self'"
     ]
    }
   ],
   "source": [
    "traingle.sides()"
   ]
  },
  {
   "cell_type": "code",
   "execution_count": 66,
   "id": "be71ea71-7b03-4fc8-a15b-718c489e48ac",
   "metadata": {},
   "outputs": [],
   "source": [
    "square_obj = square()"
   ]
  },
  {
   "cell_type": "code",
   "execution_count": 68,
   "id": "6f95c876-6e28-443e-89bd-4fe88df08856",
   "metadata": {},
   "outputs": [
    {
     "name": "stdout",
     "output_type": "stream",
     "text": [
      "square has 4 sides\n"
     ]
    }
   ],
   "source": [
    "square_obj.sides()"
   ]
  },
  {
   "cell_type": "markdown",
   "id": "aa8e0a9b-f618-49ba-9fc7-1d9ce5c716d5",
   "metadata": {},
   "source": [
    "# Polymorphism"
   ]
  },
  {
   "cell_type": "code",
   "execution_count": 79,
   "id": "04d1c05e-dfd0-492a-b2a1-b62bfde00e9f",
   "metadata": {},
   "outputs": [],
   "source": [
    "class animal():\n",
    "    def eating(self):\n",
    "        print(\"animal is eating food\")\n",
    "\n",
    "    def sleeping(self):\n",
    "        print(\"animal is sleeping\")\n",
    "\n",
    "class bird(animal):\n",
    "    def eating(self):\n",
    "        print(\"bird is eating food\")"
   ]
  },
  {
   "cell_type": "code",
   "execution_count": 73,
   "id": "cf03f963-86f1-40d7-9f96-7e2789f42d6b",
   "metadata": {},
   "outputs": [],
   "source": [
    "animal_obj=animal()"
   ]
  },
  {
   "cell_type": "code",
   "execution_count": 81,
   "id": "64eae056-8f0d-4238-88d1-fa66198f6b46",
   "metadata": {},
   "outputs": [],
   "source": [
    "bird_obj=bird()"
   ]
  },
  {
   "cell_type": "code",
   "execution_count": 77,
   "id": "93254a19-8130-4df3-8f36-f84158f32765",
   "metadata": {},
   "outputs": [
    {
     "name": "stdout",
     "output_type": "stream",
     "text": [
      "bird is eating food\n"
     ]
    }
   ],
   "source": [
    "bird_obj.eating"
   ]
  },
  {
   "cell_type": "code",
   "execution_count": 83,
   "id": "33737500-310f-459e-a2a8-bcbb38882811",
   "metadata": {},
   "outputs": [
    {
     "name": "stdout",
     "output_type": "stream",
     "text": [
      "animal is sleeping\n"
     ]
    }
   ],
   "source": [
    "bird_obj.sleeping()"
   ]
  },
  {
   "cell_type": "code",
   "execution_count": 87,
   "id": "b84924a7-11f9-4f79-b80a-32c8ae2d6324",
   "metadata": {},
   "outputs": [],
   "source": [
    "class veichle():\n",
    "    def __init__(self,speed):\n",
    "       self.max_speed=150\n",
    "       self.currentgear=1\n",
    "       self.total_gear=5\n",
    "       self.changegear=currentgear +1\n",
    "    def speed(self):\n",
    "        print(\"your max speed is\"+str(max_speed))\n",
    "\n",
    "    def change_gear(self):\n",
    "        print(\"total gear =5 \")\n",
    "        print(\"changing gear ......\"+str(changegear))\n",
    "\n",
    "\n",
    "class car(veichle):\n",
    "    def __init__(self,speed):\n",
    "       self.max_speed=240\n",
    "       self.currentgear=1\n",
    "       self.total_gear=6\n",
    "       self.changegear=currentgear +1\n",
    "    def speed(self):\n",
    "        print(\"your max speed is\"+str(max_speed))\n",
    "\n",
    "    def change_gear(self):\n",
    "        print(\"total gear =5 \")\n",
    "        print(\"changing gear ......\"+str(changegear))\n",
    "\n",
    "\n",
    "class truck(veichle):\n",
    "    def __init__(self,speed):\n",
    "       self.max_speed=200\n",
    "       self.currentgear=1\n",
    "       self.total_gear=8\n",
    "       self.changegear=currentgear +1\n",
    "    def speed(self):\n",
    "        print(\"your max speed is\"+str(max_speed))\n",
    "\n",
    "    def change_gear(self):\n",
    "        print(\"total gear =5 \")\n",
    "        print(\"changing gear ......\"+str(changegear))\n",
    "        \n",
    "\n",
    "    "
   ]
  },
  {
   "cell_type": "code",
   "execution_count": 91,
   "id": "cb080388-dbf3-4cf8-8f45-0e97d8f81869",
   "metadata": {},
   "outputs": [
    {
     "ename": "NameError",
     "evalue": "name 'currentgear' is not defined",
     "output_type": "error",
     "traceback": [
      "\u001b[1;31m---------------------------------------------------------------------------\u001b[0m",
      "\u001b[1;31mNameError\u001b[0m                                 Traceback (most recent call last)",
      "Cell \u001b[1;32mIn[91], line 1\u001b[0m\n\u001b[1;32m----> 1\u001b[0m truck_obj\u001b[38;5;241m=\u001b[39mtruck(\u001b[38;5;241m140\u001b[39m)\n",
      "Cell \u001b[1;32mIn[87], line 34\u001b[0m, in \u001b[0;36mtruck.__init__\u001b[1;34m(self, speed)\u001b[0m\n\u001b[0;32m     32\u001b[0m \u001b[38;5;28mself\u001b[39m\u001b[38;5;241m.\u001b[39mcurrentgear\u001b[38;5;241m=\u001b[39m\u001b[38;5;241m1\u001b[39m\n\u001b[0;32m     33\u001b[0m \u001b[38;5;28mself\u001b[39m\u001b[38;5;241m.\u001b[39mtotal_gear\u001b[38;5;241m=\u001b[39m\u001b[38;5;241m8\u001b[39m\n\u001b[1;32m---> 34\u001b[0m \u001b[38;5;28mself\u001b[39m\u001b[38;5;241m.\u001b[39mchangegear\u001b[38;5;241m=\u001b[39mcurrentgear \u001b[38;5;241m+\u001b[39m\u001b[38;5;241m1\u001b[39m\n",
      "\u001b[1;31mNameError\u001b[0m: name 'currentgear' is not defined"
     ]
    }
   ],
   "source": [
    "truck_obj=truck(140)"
   ]
  },
  {
   "cell_type": "code",
   "execution_count": 99,
   "id": "c0dbb473-5a9e-45b8-bdbb-1d650d923a7c",
   "metadata": {},
   "outputs": [],
   "source": [
    " class saylani():\n",
    "     def __init__(self):\n",
    "         self.campus=\"zaitoon ashraf it park\"\n",
    "         self._helpline=\"0800808008\"  #protected\n",
    "         self.__staff_contact=\"0315386486\"  #private\n",
    "\n"
   ]
  },
  {
   "cell_type": "code",
   "execution_count": 101,
   "id": "722944db-0eef-4b63-ab9e-9625d41e2104",
   "metadata": {},
   "outputs": [],
   "source": [
    "saylani_obj= saylani()"
   ]
  },
  {
   "cell_type": "code",
   "execution_count": 103,
   "id": "ce505ceb-8c4c-4c51-839a-cacf355f8f52",
   "metadata": {},
   "outputs": [
    {
     "data": {
      "text/plain": [
       "'zaitoon ashraf it park'"
      ]
     },
     "execution_count": 103,
     "metadata": {},
     "output_type": "execute_result"
    }
   ],
   "source": [
    "saylani_obj.campus"
   ]
  },
  {
   "cell_type": "code",
   "execution_count": 107,
   "id": "94a76b5b-2bd3-442c-86d8-55e41f62fee3",
   "metadata": {},
   "outputs": [
    {
     "ename": "NameError",
     "evalue": "name 'saylani_staff' is not defined",
     "output_type": "error",
     "traceback": [
      "\u001b[1;31m---------------------------------------------------------------------------\u001b[0m",
      "\u001b[1;31mNameError\u001b[0m                                 Traceback (most recent call last)",
      "Cell \u001b[1;32mIn[107], line 1\u001b[0m\n\u001b[1;32m----> 1\u001b[0m saylani_staff\u001b[38;5;241m.\u001b[39m_saylani__staff_contact()\n",
      "\u001b[1;31mNameError\u001b[0m: name 'saylani_staff' is not defined"
     ]
    }
   ],
   "source": [
    "saylani_staff._saylani__staff_contact()"
   ]
  },
  {
   "cell_type": "code",
   "execution_count": 134,
   "id": "840680b0-b4ba-4ac7-ba1f-fbf16e571db8",
   "metadata": {},
   "outputs": [],
   "source": [
    "class Login:\n",
    "    def __init__(self):\n",
    "        self._username = \"admin\"\n",
    "        self._passw = \"admin\"\n",
    "\n",
    "    def __dbconnectivity(self, username, passw):\n",
    "        if username == self._username and passw == self._passw:\n",
    "            print(\"Login successful\")\n",
    "        else:\n",
    "            print(\"Invalid credentials\")\n",
    "\n",
    "    def update_pass(self, new_pass):\n",
    "        self._passw = new_pass\n",
    "        print(\"Password updated\")\n",
    "\n",
    "    def login(self, username, passw):\n",
    "        self.__dbconnectivity(username, passw)\n",
    "        \n",
    "        "
   ]
  },
  {
   "cell_type": "code",
   "execution_count": 128,
   "id": "058fb14b-49fb-48fc-9268-2dcba308e61d",
   "metadata": {},
   "outputs": [
    {
     "ename": "NameError",
     "evalue": "name 'login' is not defined",
     "output_type": "error",
     "traceback": [
      "\u001b[1;31m---------------------------------------------------------------------------\u001b[0m",
      "\u001b[1;31mNameError\u001b[0m                                 Traceback (most recent call last)",
      "Cell \u001b[1;32mIn[128], line 1\u001b[0m\n\u001b[1;32m----> 1\u001b[0m user\u001b[38;5;241m=\u001b[39mlogin()\n",
      "\u001b[1;31mNameError\u001b[0m: name 'login' is not defined"
     ]
    }
   ],
   "source": [
    "user=login()"
   ]
  },
  {
   "cell_type": "code",
   "execution_count": 130,
   "id": "a9b69386-72ec-433f-9cfb-b595501aa6fc",
   "metadata": {},
   "outputs": [
    {
     "ename": "NameError",
     "evalue": "name 'login' is not defined",
     "output_type": "error",
     "traceback": [
      "\u001b[1;31m---------------------------------------------------------------------------\u001b[0m",
      "\u001b[1;31mNameError\u001b[0m                                 Traceback (most recent call last)",
      "Cell \u001b[1;32mIn[130], line 1\u001b[0m\n\u001b[1;32m----> 1\u001b[0m login_obj\u001b[38;5;241m=\u001b[39mlogin()\n",
      "\u001b[1;31mNameError\u001b[0m: name 'login' is not defined"
     ]
    }
   ],
   "source": [
    "login_obj=login()"
   ]
  },
  {
   "cell_type": "code",
   "execution_count": 132,
   "id": "24c8fcc8-ebd7-4b36-bca6-160f317d36b4",
   "metadata": {},
   "outputs": [
    {
     "ename": "NameError",
     "evalue": "name 'user' is not defined",
     "output_type": "error",
     "traceback": [
      "\u001b[1;31m---------------------------------------------------------------------------\u001b[0m",
      "\u001b[1;31mNameError\u001b[0m                                 Traceback (most recent call last)",
      "Cell \u001b[1;32mIn[132], line 1\u001b[0m\n\u001b[1;32m----> 1\u001b[0m user\u001b[38;5;241m.\u001b[39mlogin\n",
      "\u001b[1;31mNameError\u001b[0m: name 'user' is not defined"
     ]
    }
   ],
   "source": [
    "user.login"
   ]
  },
  {
   "cell_type": "code",
   "execution_count": 136,
   "id": "cfb01524-d88e-4f35-847c-59428900bf25",
   "metadata": {},
   "outputs": [
    {
     "name": "stdout",
     "output_type": "stream",
     "text": [
      "Login successful\n",
      "Password updated\n",
      "Invalid credentials\n",
      "Login successful\n"
     ]
    }
   ],
   "source": [
    "# Create an instance of the Login class\n",
    "user_login = Login()\n",
    "\n",
    "# Try logging in with the default credentials\n",
    "user_login.login(\"admin\", \"admin\")  # Output: Login successful\n",
    "\n",
    "# Update the password\n",
    "user_login.update_pass(\"newpassword\")\n",
    "\n",
    "# Try logging in with the old password\n",
    "user_login.login(\"admin\", \"admin\")  # Output: Invalid credentials\n",
    "\n",
    "# Try logging in with the new password\n",
    "user_login.login(\"admin\", \"newpassword\")  # Output: Login successful\n"
   ]
  },
  {
   "cell_type": "code",
   "execution_count": null,
   "id": "2833f8d1-c53e-42d7-91da-5cd853ad9294",
   "metadata": {},
   "outputs": [],
   "source": []
  }
 ],
 "metadata": {
  "kernelspec": {
   "display_name": "Python 3 (ipykernel)",
   "language": "python",
   "name": "python3"
  },
  "language_info": {
   "codemirror_mode": {
    "name": "ipython",
    "version": 3
   },
   "file_extension": ".py",
   "mimetype": "text/x-python",
   "name": "python",
   "nbconvert_exporter": "python",
   "pygments_lexer": "ipython3",
   "version": "3.12.7"
  }
 },
 "nbformat": 4,
 "nbformat_minor": 5
}
