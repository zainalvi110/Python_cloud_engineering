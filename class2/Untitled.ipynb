{
 "cells": [
  {
   "cell_type": "markdown",
   "id": "50244d5c-ba6a-4d04-8398-a0250d91a375",
   "metadata": {},
   "source": [
    "### recap"
   ]
  },
  {
   "cell_type": "code",
   "execution_count": null,
   "id": "173f81a1-3cc7-47b1-9207-445d979b7ac5",
   "metadata": {},
   "outputs": [],
   "source": [
    "print(\"hello students\")"
   ]
  },
  {
   "cell_type": "markdown",
   "id": "ccb35a96-9b23-4471-9c60-70e821056526",
   "metadata": {},
   "source": [
    "# TYPES\n",
    " name=\"zain alvi\"\n",
    "age=20\n",
    "weight=79.75\n",
    "is_present=True"
   ]
  },
  {
   "cell_type": "code",
   "execution_count": null,
   "id": "d16a5ffb-d864-4fc6-91b7-e8177cbe291d",
   "metadata": {},
   "outputs": [],
   "source": [
    "name=\"zain\"\n",
    "type(name)"
   ]
  },
  {
   "cell_type": "markdown",
   "id": "a1302ffe-e2fa-4168-9ce2-1f04de9b50f1",
   "metadata": {},
   "source": [
    "### calculations"
   ]
  },
  {
   "cell_type": "code",
   "execution_count": null,
   "id": "2c1decf1-d751-4cb6-a071-1de781ee1bf4",
   "metadata": {},
   "outputs": [],
   "source": [
    "(3+8)/(2-1)\n"
   ]
  },
  {
   "cell_type": "markdown",
   "id": "5581bcb6-4888-4462-a703-7680456f4ca9",
   "metadata": {},
   "source": [
    "### operators"
   ]
  },
  {
   "cell_type": "code",
   "execution_count": null,
   "id": "07b44373-11a1-4e96-ac82-4cc47b43f844",
   "metadata": {},
   "outputs": [],
   "source": [
    "# ** =power\n",
    "# // =floor\n",
    "5//7\n",
    "\n"
   ]
  },
  {
   "cell_type": "code",
   "execution_count": null,
   "id": "d6275d78-0965-41a4-9837-7c7c4494cea4",
   "metadata": {},
   "outputs": [],
   "source": [
    "age= 22"
   ]
  },
  {
   "cell_type": "code",
   "execution_count": null,
   "id": "8aa0f4b5-a9ba-42c8-9237-7f1729266829",
   "metadata": {},
   "outputs": [],
   "source": [
    "age"
   ]
  },
  {
   "cell_type": "code",
   "execution_count": null,
   "id": "6d342f19-2ca3-42db-ae39-80a1cbc1e428",
   "metadata": {},
   "outputs": [],
   "source": [
    "age+=5\n",
    "age"
   ]
  },
  {
   "cell_type": "code",
   "execution_count": null,
   "id": "51f7bc46-762a-4187-a791-42c635432778",
   "metadata": {},
   "outputs": [],
   "source": [
    "age-5\n",
    "age"
   ]
  },
  {
   "cell_type": "code",
   "execution_count": null,
   "id": "1ca7ef46-b171-4046-a896-22aebea5188d",
   "metadata": {},
   "outputs": [],
   "source": [
    "age -=5\n",
    "age"
   ]
  },
  {
   "cell_type": "code",
   "execution_count": null,
   "id": "a71a3ce1-b7ce-4ae6-ab52-c9ed93bd7451",
   "metadata": {},
   "outputs": [],
   "source": [
    "age//5\n",
    "age"
   ]
  },
  {
   "cell_type": "code",
   "execution_count": null,
   "id": "8276d284-f3ee-404b-9d1d-2e04b61ad25b",
   "metadata": {},
   "outputs": [],
   "source": [
    "age /=5\n",
    "age"
   ]
  },
  {
   "cell_type": "markdown",
   "id": "7fd436b2-96d0-4563-9577-6f8670ed7cfe",
   "metadata": {},
   "source": [
    "## concatenating text"
   ]
  },
  {
   "cell_type": "code",
   "execution_count": null,
   "id": "3b777ca4-edbb-44b8-972b-0a8587f538bc",
   "metadata": {},
   "outputs": [],
   "source": [
    "\"hello saylani\" + \"!!!\""
   ]
  },
  {
   "cell_type": "code",
   "execution_count": null,
   "id": "60fdcf56-3bb8-4e29-81b1-3667f0af8721",
   "metadata": {},
   "outputs": [],
   "source": [
    "'hello zaiiiiin'"
   ]
  },
  {
   "cell_type": "code",
   "execution_count": null,
   "id": "812ef9e1-fa79-4340-a464-bc51828d622d",
   "metadata": {},
   "outputs": [],
   "source": [
    "\"my name is\"+ name+\",my age is\"+ str(age)"
   ]
  },
  {
   "cell_type": "code",
   "execution_count": null,
   "id": "ba77fc19-5522-4778-9bd5-1721323dbcb3",
   "metadata": {},
   "outputs": [],
   "source": [
    "f\"my name is {name} and my age is {age}\""
   ]
  },
  {
   "cell_type": "code",
   "execution_count": null,
   "id": "f1286eb2-9d1e-4461-aee2-7a8e1acb63d9",
   "metadata": {},
   "outputs": [],
   "source": [
    "if name==\"zain\":\n",
    "    print(\"hey zain\")"
   ]
  },
  {
   "cell_type": "code",
   "execution_count": null,
   "id": "34e034d1-3839-4a97-ad00-128f8fcd1420",
   "metadata": {},
   "outputs": [],
   "source": []
  }
 ],
 "metadata": {
  "kernelspec": {
   "display_name": "base",
   "language": "python",
   "name": "python3"
  },
  "language_info": {
   "codemirror_mode": {
    "name": "ipython",
    "version": 3
   },
   "file_extension": ".py",
   "mimetype": "text/x-python",
   "name": "python",
   "nbconvert_exporter": "python",
   "pygments_lexer": "ipython3",
   "version": "3.12.7"
  }
 },
 "nbformat": 4,
 "nbformat_minor": 5
}
