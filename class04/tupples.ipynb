{
 "cells": [
  {
   "cell_type": "markdown",
   "id": "06109eca-cc09-4e05-a1ca-16460922b818",
   "metadata": {},
   "source": [
    "###  TUPLES\n"
   ]
  },
  {
   "cell_type": "code",
   "execution_count": 2,
   "id": "795c5b16-6800-456f-9225-a5ce15e82333",
   "metadata": {},
   "outputs": [
    {
     "data": {
      "text/plain": [
       "(1, 2, 3, 4)"
      ]
     },
     "execution_count": 2,
     "metadata": {},
     "output_type": "execute_result"
    }
   ],
   "source": [
    "first_tuple = (1,2,3,4)\n",
    "first_tuple"
   ]
  },
  {
   "cell_type": "code",
   "execution_count": 8,
   "id": "60f8f64a-4f17-413b-89a6-0801d2cbc8e8",
   "metadata": {},
   "outputs": [
    {
     "data": {
      "text/plain": [
       "(56, 0.25, 'yesss')"
      ]
     },
     "execution_count": 8,
     "metadata": {},
     "output_type": "execute_result"
    }
   ],
   "source": [
    "multiple_data=(56,00.25,\"yesss\")\n",
    "multiple_data"
   ]
  },
  {
   "cell_type": "code",
   "execution_count": 12,
   "id": "17c262f1-d0db-4575-be44-d5bce113763b",
   "metadata": {},
   "outputs": [
    {
     "data": {
      "text/plain": [
       "'hamza'"
      ]
     },
     "execution_count": 12,
     "metadata": {},
     "output_type": "execute_result"
    }
   ],
   "source": [
    "tuple =(\"zain\",\"ayan\",\"hamza\",\"aqib\")\n",
    "tuple[2]"
   ]
  },
  {
   "cell_type": "code",
   "execution_count": 16,
   "id": "7bc2c85c-f3a5-4177-a131-30972e414fd0",
   "metadata": {},
   "outputs": [
    {
     "data": {
      "text/plain": [
       "('curtains', 'grocery', 'food')"
      ]
     },
     "execution_count": 16,
     "metadata": {},
     "output_type": "execute_result"
    }
   ],
   "source": [
    "new_tuple=(\"chair\",\"desk\",\"curtains\",\"grocery\",\"food\",\"market\")\n",
    "new_tuple[2:-1]"
   ]
  },
  {
   "cell_type": "code",
   "execution_count": 18,
   "id": "58e50ec6-feff-4d86-8d9d-d7c552c235cf",
   "metadata": {},
   "outputs": [
    {
     "data": {
      "text/plain": [
       "('food',)"
      ]
     },
     "execution_count": 18,
     "metadata": {},
     "output_type": "execute_result"
    }
   ],
   "source": [
    "new_tuple=(\"chair\",\"desk\",\"curtains\",\"grocery\",\"food\",\"market\")\n",
    "new_tuple[-2:-1]"
   ]
  },
  {
   "cell_type": "code",
   "execution_count": 28,
   "id": "a497eecf-e5c7-4ca5-8cc3-b6255cce1133",
   "metadata": {},
   "outputs": [
    {
     "ename": "SyntaxError",
     "evalue": "invalid syntax (811841597.py, line 1)",
     "output_type": "error",
     "traceback": [
      "\u001b[1;36m  Cell \u001b[1;32mIn[28], line 1\u001b[1;36m\u001b[0m\n\u001b[1;33m    for i in range(len(tuple):\u001b[0m\n\u001b[1;37m                             ^\u001b[0m\n\u001b[1;31mSyntaxError\u001b[0m\u001b[1;31m:\u001b[0m invalid syntax\n"
     ]
    }
   ],
   "source": [
    "for i in range(len(tuple):\n",
    "    print(tuple[i]"
   ]
  },
  {
   "cell_type": "code",
   "execution_count": 30,
   "id": "14a24ef1-0d99-46de-aa4d-1fade3bb9a00",
   "metadata": {},
   "outputs": [
    {
     "name": "stdout",
     "output_type": "stream",
     "text": [
      "s\n",
      "m\n",
      "i\n",
      "t\n",
      "c\n",
      "l\n",
      "a\n",
      "s\n",
      "s\n"
     ]
    }
   ],
   "source": [
    "var ='smitclass'\n",
    "for i in var:\n",
    "    print (i)"
   ]
  },
  {
   "cell_type": "code",
   "execution_count": 32,
   "id": "fbf00213-51de-4094-8f00-c2bf1de2e1b3",
   "metadata": {},
   "outputs": [
    {
     "ename": "TypeError",
     "evalue": "'list' object cannot be interpreted as an integer",
     "output_type": "error",
     "traceback": [
      "\u001b[1;31m---------------------------------------------------------------------------\u001b[0m",
      "\u001b[1;31mTypeError\u001b[0m                                 Traceback (most recent call last)",
      "Cell \u001b[1;32mIn[32], line 2\u001b[0m\n\u001b[0;32m      1\u001b[0m \u001b[38;5;28mlist\u001b[39m\u001b[38;5;241m=\u001b[39m[\u001b[38;5;124m\"\u001b[39m\u001b[38;5;124mzain\u001b[39m\u001b[38;5;124m\"\u001b[39m,\u001b[38;5;124m\"\u001b[39m\u001b[38;5;124malvi\u001b[39m\u001b[38;5;124m\"\u001b[39m,\u001b[38;5;124m\"\u001b[39m\u001b[38;5;124mqasim\u001b[39m\u001b[38;5;124m\"\u001b[39m]\n\u001b[1;32m----> 2\u001b[0m \u001b[38;5;28;01mfor\u001b[39;00m i \u001b[38;5;129;01min\u001b[39;00m \u001b[38;5;28mrange\u001b[39m(\u001b[38;5;28mlist\u001b[39m):\n\u001b[0;32m      3\u001b[0m     \u001b[38;5;28mprint\u001b[39m(i)\n",
      "\u001b[1;31mTypeError\u001b[0m: 'list' object cannot be interpreted as an integer"
     ]
    }
   ],
   "source": [
    "list=[\"zain\",\"alvi\",\"qasim\"]\n",
    "for i in range(list):\n",
    "    print(i)"
   ]
  },
  {
   "cell_type": "code",
   "execution_count": 36,
   "id": "bf2fd38b-8f72-47cb-8b8f-71cd06f0bd4b",
   "metadata": {},
   "outputs": [
    {
     "name": "stdin",
     "output_type": "stream",
     "text": [
      "enter a name dkl\n",
      "enter a name jhj\n",
      "enter a name jh\n",
      "enter a name vv\n"
     ]
    },
    {
     "name": "stdout",
     "output_type": "stream",
     "text": [
      "dkl\n",
      "jhj\n",
      "jh\n",
      "vv\n"
     ]
    }
   ],
   "source": [
    "names=[]\n",
    "for i in range(4):\n",
    "    name=input(\"enter a name\")\n",
    "    names.append(name)\n",
    "\n",
    "for i in names:\n",
    "    print(i)"
   ]
  },
  {
   "cell_type": "code",
   "execution_count": 58,
   "id": "35571493-ad96-4097-bf52-e6339dcc009a",
   "metadata": {},
   "outputs": [
    {
     "name": "stdout",
     "output_type": "stream",
     "text": [
      "[1, 2, 3, 4, 5]\n",
      "1\n",
      "2\n",
      "3\n",
      "4\n",
      "5\n",
      "[55, 66, 88, 66]\n",
      "55\n",
      "66\n",
      "88\n",
      "66\n",
      "['zain', 'alvi']\n",
      "zain\n",
      "alvi\n"
     ]
    }
   ],
   "source": [
    "nested_lists = [[1,2,3,4,5], [55,66,88,66], [\"zain\",\"alvi\"]]\n",
    "for i in nested_lists:\n",
    "    print(i)\n",
    "    for j in i:\n",
    "        print (j)\n",
    "        "
   ]
  },
  {
   "cell_type": "code",
   "execution_count": 44,
   "id": "5dcdf587-8bb1-4876-a6c4-886cfb3c0fd2",
   "metadata": {},
   "outputs": [
    {
     "name": "stdout",
     "output_type": "stream",
     "text": [
      "1\n",
      "2\n",
      "3\n",
      "4\n",
      "5\n"
     ]
    }
   ],
   "source": [
    "simple_list =[1,2,3,4,5]\n",
    "for i in simple_list:\n",
    "    print (i)"
   ]
  },
  {
   "cell_type": "code",
   "execution_count": 52,
   "id": "05823aa1-d13e-498f-8bc3-061f1d2db817",
   "metadata": {},
   "outputs": [
    {
     "ename": "IndentationError",
     "evalue": "expected an indented block after 'for' statement on line 4 (3107589421.py, line 5)",
     "output_type": "error",
     "traceback": [
      "\u001b[1;36m  Cell \u001b[1;32mIn[52], line 5\u001b[1;36m\u001b[0m\n\u001b[1;33m    print (\"i\",i,\"j\",j,\"z\",z)\u001b[0m\n\u001b[1;37m    ^\u001b[0m\n\u001b[1;31mIndentationError\u001b[0m\u001b[1;31m:\u001b[0m expected an indented block after 'for' statement on line 4\n"
     ]
    }
   ],
   "source": [
    "simple_list =[1,2,3]\n",
    "for i in simple_list:\n",
    "    for j in simple_list:\n",
    "        for z in simple_list:\n",
    "        print (\"i\",i,\"j\",j,\"z\",z)"
   ]
  },
  {
   "cell_type": "code",
   "execution_count": 54,
   "id": "3361112b-30a3-4bcb-99a5-436edcf7eb3a",
   "metadata": {},
   "outputs": [
    {
     "name": "stdout",
     "output_type": "stream",
     "text": [
      "i 1 j 1 z 1\n",
      "i 1 j 1 z 2\n",
      "i 1 j 1 z 3\n",
      "i 1 j 2 z 1\n",
      "i 1 j 2 z 2\n",
      "i 1 j 2 z 3\n",
      "i 1 j 3 z 1\n",
      "i 1 j 3 z 2\n",
      "i 1 j 3 z 3\n",
      "i 2 j 1 z 1\n",
      "i 2 j 1 z 2\n",
      "i 2 j 1 z 3\n",
      "i 2 j 2 z 1\n",
      "i 2 j 2 z 2\n",
      "i 2 j 2 z 3\n",
      "i 2 j 3 z 1\n",
      "i 2 j 3 z 2\n",
      "i 2 j 3 z 3\n",
      "i 3 j 1 z 1\n",
      "i 3 j 1 z 2\n",
      "i 3 j 1 z 3\n",
      "i 3 j 2 z 1\n",
      "i 3 j 2 z 2\n",
      "i 3 j 2 z 3\n",
      "i 3 j 3 z 1\n",
      "i 3 j 3 z 2\n",
      "i 3 j 3 z 3\n"
     ]
    }
   ],
   "source": [
    "simple_list = [1, 2, 3]\n",
    "for i in simple_list:\n",
    "    for j in simple_list:\n",
    "        for z in simple_list:\n",
    "            print(\"i\", i, \"j\", j, \"z\", z)"
   ]
  },
  {
   "cell_type": "code",
   "execution_count": 68,
   "id": "3094fdfa-605c-48c0-8d52-a232b1d61a07",
   "metadata": {},
   "outputs": [
    {
     "name": "stdout",
     "output_type": "stream",
     "text": [
      "* * * * * \n",
      "* * * * * \n",
      "* * * * * \n",
      "* * * * * \n",
      "* * * * * \n"
     ]
    }
   ],
   "source": [
    "\n",
    "\n",
    "for i in range(5):\n",
    "    for j in range(5):\n",
    "        print(\"*\", end=\" \")\n",
    "    print()"
   ]
  },
  {
   "cell_type": "code",
   "execution_count": 78,
   "id": "4e43fa13-af93-46e9-b0bc-7886b9378a68",
   "metadata": {},
   "outputs": [
    {
     "name": "stdout",
     "output_type": "stream",
     "text": [
      "* * * * * \n",
      "* * * * \n",
      "* * * \n",
      "* * \n",
      "* \n",
      "\n"
     ]
    }
   ],
   "source": [
    "for i in range(6):\n",
    "    for j in range(5-i):\n",
    "        print(\"*\", end=\" \")\n",
    "    print()"
   ]
  },
  {
   "cell_type": "code",
   "execution_count": 80,
   "id": "b5e697c5-79f3-4c79-a1b7-8ec2bcc2e48f",
   "metadata": {},
   "outputs": [
    {
     "name": "stdout",
     "output_type": "stream",
     "text": [
      "\n",
      "* \n",
      "* * \n",
      "* * * \n",
      "* * * * \n",
      "* * * * * \n"
     ]
    }
   ],
   "source": [
    "for i in range(6):\n",
    "    for j in range(i):\n",
    "        print(\"*\", end=\" \")\n",
    "    print()"
   ]
  },
  {
   "cell_type": "code",
   "execution_count": 82,
   "id": "f4cd4956-8950-47d2-86f8-814928465abe",
   "metadata": {},
   "outputs": [
    {
     "name": "stdout",
     "output_type": "stream",
     "text": [
      "0\n",
      "1\n",
      "2\n",
      "3\n",
      "4\n",
      "5\n",
      "6\n",
      "7\n",
      "8\n",
      "9\n",
      "10\n",
      "11\n"
     ]
    }
   ],
   "source": [
    "for i in range(12):\n",
    "    print(i)\n",
    "    continue\n",
    "    print(\"hello\")"
   ]
  },
  {
   "cell_type": "code",
   "execution_count": null,
   "id": "41b9b6ea-6e1f-4d0e-b981-08ad00d95a4c",
   "metadata": {},
   "outputs": [],
   "source": []
  }
 ],
 "metadata": {
  "kernelspec": {
   "display_name": "Python 3 (ipykernel)",
   "language": "python",
   "name": "python3"
  },
  "language_info": {
   "codemirror_mode": {
    "name": "ipython",
    "version": 3
   },
   "file_extension": ".py",
   "mimetype": "text/x-python",
   "name": "python",
   "nbconvert_exporter": "python",
   "pygments_lexer": "ipython3",
   "version": "3.12.7"
  }
 },
 "nbformat": 4,
 "nbformat_minor": 5
}
