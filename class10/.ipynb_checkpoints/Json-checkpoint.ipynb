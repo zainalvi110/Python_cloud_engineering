{
 "cells": [
  {
   "cell_type": "markdown",
   "id": "7552178e-f2f9-437b-8c48-b41f7050ad2d",
   "metadata": {},
   "source": [
    "# Json Handling (java script object notation)"
   ]
  },
  {
   "cell_type": "code",
   "execution_count": 4,
   "id": "b78829ce-a734-4f26-ac19-bcca974b90dd",
   "metadata": {},
   "outputs": [
    {
     "data": {
      "text/plain": [
       "{'name': 'zain', 'age': '20'}"
      ]
     },
     "execution_count": 4,
     "metadata": {},
     "output_type": "execute_result"
    }
   ],
   "source": [
    "#syntax\n",
    "#key value based\n",
    "{'name':'zain','age':'20'}"
   ]
  },
  {
   "cell_type": "code",
   "execution_count": 6,
   "id": "07962eae-c65c-41de-b26e-47cb8bd6ecd6",
   "metadata": {},
   "outputs": [],
   "source": [
    "names='[\"qasim\",\"uzair\",\"zain\"]'\n",
    "with open (\"name.txt\",\"w\") as file:\n",
    "    file.write(names)"
   ]
  },
  {
   "cell_type": "code",
   "execution_count": 8,
   "id": "0b730d86-588d-4f58-a338-d354e103c711",
   "metadata": {},
   "outputs": [],
   "source": [
    "import json\n",
    "names='[\"qasim\",\"uzair\",\"zain\"]'\n",
    "with open (\"name1.txt\",\"w\") as file:\n",
    "    json.dump(names,file)\n",
    "    "
   ]
  },
  {
   "cell_type": "code",
   "execution_count": 24,
   "id": "0275756a-cb21-4483-a264-22c83d24cfe2",
   "metadata": {},
   "outputs": [
    {
     "name": "stdout",
     "output_type": "stream",
     "text": [
      "[\"qasim\",\"uzair\",\"zain\"]\n"
     ]
    }
   ],
   "source": [
    "import json\n",
    "with open (\"name1.txt\",\"r\") as file:\n",
    "   data= json.load(file)\n",
    "   print(data)"
   ]
  },
  {
   "cell_type": "code",
   "execution_count": null,
   "id": "d29fde87-3933-44c0-9ef8-dbd7bfde0679",
   "metadata": {},
   "outputs": [],
   "source": [
    "info ={'name':'zain','age':200}\n"
   ]
  },
  {
   "cell_type": "code",
   "execution_count": 40,
   "id": "1bb3f0fe-b118-48f2-957d-86529ae5e380",
   "metadata": {},
   "outputs": [],
   "source": [
    "# using funtion to write in  a file\n",
    "import json\n",
    "def parse_dic(dic):\n",
    "    with open (\"parsingin.json\",\"w\") as file:\n",
    "        data = json.dump(dic,file)\n",
    "\n",
    "parse_dic({'name': 'alvi', 'age': '19','city':'karachi'})"
   ]
  },
  {
   "cell_type": "code",
   "execution_count": 42,
   "id": "c113b08e-9d50-4c58-b889-6d8c3eb1eebf",
   "metadata": {},
   "outputs": [
    {
     "name": "stdout",
     "output_type": "stream",
     "text": [
      "{'name': 'alvi', 'age': '19', 'city': 'karachi'}\n"
     ]
    }
   ],
   "source": [
    "import json\n",
    "with open (\"parsingin.json\",\"r\") as file:\n",
    "   data= json.load(file)\n",
    "   print(data)"
   ]
  },
  {
   "cell_type": "code",
   "execution_count": 44,
   "id": "f1d46357-075f-4ca1-a24c-ac43b114199a",
   "metadata": {},
   "outputs": [
    {
     "name": "stdout",
     "output_type": "stream",
     "text": [
      "{'name': 'zain', 'age': '46'}\n"
     ]
    }
   ],
   "source": [
    "import json     #giving str to get dictionary\n",
    "def str_to_dict(j):\n",
    "    return json.loads(j)\n",
    "\n",
    "orr_string='{\"name\":\"zain\",\"age\":\"46\"}'\n",
    "value= str_to_dict(orr_string)\n",
    "print(value)"
   ]
  },
  {
   "cell_type": "markdown",
   "id": "b90b3799-b30c-41ca-837d-6e44d51dac65",
   "metadata": {},
   "source": [
    "# ERROR HANDLING"
   ]
  },
  {
   "cell_type": "code",
   "execution_count": 56,
   "id": "8fb6cfe0-5334-44a9-8806-d25b0c5423c1",
   "metadata": {},
   "outputs": [
    {
     "name": "stdout",
     "output_type": "stream",
     "text": [
      "1\n",
      "2\n",
      "[\"qasim\",\"uzair\",\"zain\"]\n"
     ]
    }
   ],
   "source": [
    "try:\n",
    "    print(1)\n",
    "    with open (\"name1.txt\",\"r\") as file:\n",
    "         print(2)\n",
    "         data= json.load(file)\n",
    "         print(data)\n",
    "    \n",
    "except:\n",
    "    print(\"error\")"
   ]
  },
  {
   "cell_type": "code",
   "execution_count": 66,
   "id": "969cd3c8-4184-4c11-950e-61f66d4c45d0",
   "metadata": {},
   "outputs": [
    {
     "name": "stdin",
     "output_type": "stream",
     "text": [
      "enter a nm :  58\n"
     ]
    },
    {
     "name": "stdout",
     "output_type": "stream",
     "text": [
      "can only concatenate str (not \"int\") to str\n"
     ]
    }
   ],
   "source": [
    "try:\n",
    "    val=int(input(\"enter a nm : \"))\n",
    "    result=(\"your result is\" + val)\n",
    "    print(result)\n",
    "except Exception as e:\n",
    "    print(e)"
   ]
  },
  {
   "cell_type": "code",
   "execution_count": 68,
   "id": "e6544f2d-84d2-44b1-80c2-3109e421a4b3",
   "metadata": {},
   "outputs": [
    {
     "ename": "IndentationError",
     "evalue": "expected an indented block after 'try' statement on line 1 (946826703.py, line 3)",
     "output_type": "error",
     "traceback": [
      "\u001b[1;36m  Cell \u001b[1;32mIn[68], line 3\u001b[1;36m\u001b[0m\n\u001b[1;33m    except:\u001b[0m\n\u001b[1;37m    ^\u001b[0m\n\u001b[1;31mIndentationError\u001b[0m\u001b[1;31m:\u001b[0m expected an indented block after 'try' statement on line 1\n"
     ]
    }
   ],
   "source": [
    "try:\n",
    "\n",
    "except:\n",
    "\n",
    "else:\n",
    "\n",
    "finally:# will always executed\n",
    "\n",
    "    "
   ]
  },
  {
   "cell_type": "code",
   "execution_count": 72,
   "id": "27e20544-975e-4a00-94c0-f530d43c26d1",
   "metadata": {},
   "outputs": [
    {
     "name": "stdin",
     "output_type": "stream",
     "text": [
      "enter a nm 0\n"
     ]
    },
    {
     "ename": "ZeroDivisionError",
     "evalue": "division by zero",
     "output_type": "error",
     "traceback": [
      "\u001b[1;31m---------------------------------------------------------------------------\u001b[0m",
      "\u001b[1;31mZeroDivisionError\u001b[0m                         Traceback (most recent call last)",
      "Cell \u001b[1;32mIn[72], line 2\u001b[0m\n\u001b[0;32m      1\u001b[0m nm\u001b[38;5;241m=\u001b[39m\u001b[38;5;28mint\u001b[39m(\u001b[38;5;28minput\u001b[39m(\u001b[38;5;124m\"\u001b[39m\u001b[38;5;124menter a nm\u001b[39m\u001b[38;5;124m\"\u001b[39m))\n\u001b[1;32m----> 2\u001b[0m val\u001b[38;5;241m=\u001b[39m\u001b[38;5;241m100\u001b[39m\u001b[38;5;241m/\u001b[39mnm\n\u001b[0;32m      3\u001b[0m \u001b[38;5;28mprint\u001b[39m(val)\n",
      "\u001b[1;31mZeroDivisionError\u001b[0m: division by zero"
     ]
    }
   ],
   "source": [
    "nm=int(input(\"enter a nm\"))\n",
    "val=100/nm\n",
    "print(val)"
   ]
  },
  {
   "cell_type": "code",
   "execution_count": 80,
   "id": "37bad770-a234-444d-8baf-d3e9d51e701c",
   "metadata": {},
   "outputs": [
    {
     "name": "stdin",
     "output_type": "stream",
     "text": [
      "enter a nm : 0\n"
     ]
    },
    {
     "name": "stdout",
     "output_type": "stream",
     "text": [
      "division by zero\n",
      "something happened\n"
     ]
    }
   ],
   "source": [
    "try:\n",
    "    nm=int(input(\"enter a nm :\"))\n",
    "    val=100/nm\n",
    "    print(val)\n",
    "except Exception as e:\n",
    "    print(e)\n",
    "\n",
    "else:\n",
    "    print(\"working...\")\n",
    "\n",
    "finally:\n",
    "    print(\"something happened\")"
   ]
  },
  {
   "cell_type": "code",
   "execution_count": 96,
   "id": "41b164f8-377e-45ed-8b2f-8067062950ae",
   "metadata": {},
   "outputs": [
    {
     "name": "stdin",
     "output_type": "stream",
     "text": [
      "Input a file name:  employees.csv\n"
     ]
    },
    {
     "ename": "UnsupportedOperation",
     "evalue": "not readable",
     "output_type": "error",
     "traceback": [
      "\u001b[1;31m---------------------------------------------------------------------------\u001b[0m",
      "\u001b[1;31mUnsupportedOperation\u001b[0m                      Traceback (most recent call last)",
      "Cell \u001b[1;32mIn[96], line 19\u001b[0m\n\u001b[0;32m     13\u001b[0m         \u001b[38;5;28mprint\u001b[39m(\u001b[38;5;124m\"\u001b[39m\u001b[38;5;124mError: Permission denied to open the file.\u001b[39m\u001b[38;5;124m\"\u001b[39m)\n\u001b[0;32m     17\u001b[0m file_name \u001b[38;5;241m=\u001b[39m \u001b[38;5;28minput\u001b[39m(\u001b[38;5;124m\"\u001b[39m\u001b[38;5;124mInput a file name: \u001b[39m\u001b[38;5;124m\"\u001b[39m)\n\u001b[1;32m---> 19\u001b[0m open_file(file_name)\n",
      "Cell \u001b[1;32mIn[96], line 6\u001b[0m, in \u001b[0;36mopen_file\u001b[1;34m(filename)\u001b[0m\n\u001b[0;32m      2\u001b[0m \u001b[38;5;28;01mtry\u001b[39;00m:\n\u001b[0;32m      4\u001b[0m     \u001b[38;5;28;01mwith\u001b[39;00m \u001b[38;5;28mopen\u001b[39m(filename, \u001b[38;5;124m'\u001b[39m\u001b[38;5;124mw\u001b[39m\u001b[38;5;124m'\u001b[39m) \u001b[38;5;28;01mas\u001b[39;00m file:\n\u001b[1;32m----> 6\u001b[0m         contents \u001b[38;5;241m=\u001b[39m file\u001b[38;5;241m.\u001b[39mread()\n\u001b[0;32m      8\u001b[0m         \u001b[38;5;28mprint\u001b[39m(\u001b[38;5;124m\"\u001b[39m\u001b[38;5;124mFile contents:\u001b[39m\u001b[38;5;124m\"\u001b[39m)\n\u001b[0;32m     10\u001b[0m         \u001b[38;5;28mprint\u001b[39m(contents)\n",
      "\u001b[1;31mUnsupportedOperation\u001b[0m: not readable"
     ]
    }
   ],
   "source": [
    "\n",
    "def open_file(filename):\n",
    "    try:\n",
    "       \n",
    "        with open(filename, 'w') as file:\n",
    "\n",
    "            contents = file.read()\n",
    "          \n",
    "            print(\"File contents:\")\n",
    "       \n",
    "            print(contents)\n",
    "    except PermissionError:\n",
    "       \n",
    "        print(\"Error: Permission denied to open the file.\")\n",
    "\n",
    "\n",
    "\n",
    "file_name = input(\"Input a file name: \")\n",
    "\n",
    "open_file(file_name)"
   ]
  },
  {
   "cell_type": "code",
   "execution_count": null,
   "id": "9ceb09a9-b528-439e-b0e0-3e8910703f17",
   "metadata": {},
   "outputs": [],
   "source": []
  }
 ],
 "metadata": {
  "kernelspec": {
   "display_name": "Python 3 (ipykernel)",
   "language": "python",
   "name": "python3"
  },
  "language_info": {
   "codemirror_mode": {
    "name": "ipython",
    "version": 3
   },
   "file_extension": ".py",
   "mimetype": "text/x-python",
   "name": "python",
   "nbconvert_exporter": "python",
   "pygments_lexer": "ipython3",
   "version": "3.12.7"
  }
 },
 "nbformat": 4,
 "nbformat_minor": 5
}
