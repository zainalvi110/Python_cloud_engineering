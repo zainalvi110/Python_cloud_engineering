{
 "cells": [
  {
   "cell_type": "markdown",
   "id": "e3c5d6e5-93af-4419-8957-e3c3ddf3b3f2",
   "metadata": {},
   "source": [
    "###  Dictionaries\n",
    ".list=[]\n",
    ".tuple=()\n",
    ".mutable immutable\n",
    "dictionary(multiple collection of values)\n",
    "==== key:values"
   ]
  },
  {
   "cell_type": "code",
   "execution_count": 7,
   "id": "825d0246-7736-4758-9813-c850eddca5a0",
   "metadata": {},
   "outputs": [],
   "source": [
    "customer_110={\"name\":\"zain\",\n",
    "          \"lastname\":\"alvi\",\n",
    "          \"student_id\":338636}"
   ]
  },
  {
   "cell_type": "code",
   "execution_count": 9,
   "id": "502ab1c7-07de-4ce8-a589-20ad15131527",
   "metadata": {},
   "outputs": [
    {
     "data": {
      "text/plain": [
       "{'name': 'zain', 'lastname': 'alvi', 'student_id': 338636}"
      ]
     },
     "execution_count": 9,
     "metadata": {},
     "output_type": "execute_result"
    }
   ],
   "source": [
    "customer_110"
   ]
  },
  {
   "cell_type": "markdown",
   "id": "0a74714f-e836-4027-a914-bb2b257383c4",
   "metadata": {},
   "source": [
    "# ADD"
   ]
  },
  {
   "cell_type": "markdown",
   "id": "2984828b-ffe0-40c0-a14a-d999cc9e8c23",
   "metadata": {},
   "source": []
  },
  {
   "cell_type": "code",
   "execution_count": 13,
   "id": "0c88f345-465a-42c5-8f77-6e8fb949750d",
   "metadata": {},
   "outputs": [],
   "source": [
    "customer_110[\"courses\"]=\"cdebatch01\""
   ]
  },
  {
   "cell_type": "code",
   "execution_count": 15,
   "id": "85138121-c061-4cc2-8d11-316bab81a609",
   "metadata": {},
   "outputs": [
    {
     "data": {
      "text/plain": [
       "{'name': 'zain',\n",
       " 'lastname': 'alvi',\n",
       " 'student_id': 338636,\n",
       " 'courses': 'cdebatch01'}"
      ]
     },
     "execution_count": 15,
     "metadata": {},
     "output_type": "execute_result"
    }
   ],
   "source": [
    "customer_110"
   ]
  },
  {
   "cell_type": "code",
   "execution_count": 17,
   "id": "0640deb3-7c6e-4115-8e04-ea6a5b70460f",
   "metadata": {},
   "outputs": [],
   "source": [
    "del customer_110[\"courses\"]"
   ]
  },
  {
   "cell_type": "code",
   "execution_count": 19,
   "id": "2d58ab32-0a53-4bec-ad9d-2aa6a4c892d1",
   "metadata": {},
   "outputs": [
    {
     "data": {
      "text/plain": [
       "{'name': 'zain', 'lastname': 'alvi', 'student_id': 338636}"
      ]
     },
     "execution_count": 19,
     "metadata": {},
     "output_type": "execute_result"
    }
   ],
   "source": [
    "customer_110"
   ]
  },
  {
   "cell_type": "code",
   "execution_count": 21,
   "id": "755e1c60-20d6-4787-b1fc-574a39db2f5a",
   "metadata": {},
   "outputs": [],
   "source": [
    "customer_786={\"name\":\"david\",\"occupation\":\"manager\",\"adress\":\"toronto\"}"
   ]
  },
  {
   "cell_type": "code",
   "execution_count": 27,
   "id": "1522777d-cb80-410b-936e-2419abdfb6a8",
   "metadata": {},
   "outputs": [
    {
     "ename": "SyntaxError",
     "evalue": "incomplete input (2010457426.py, line 5)",
     "output_type": "error",
     "traceback": [
      "\u001b[1;36m  Cell \u001b[1;32mIn[27], line 5\u001b[1;36m\u001b[0m\n\u001b[1;33m    \u001b[0m\n\u001b[1;37m    ^\u001b[0m\n\u001b[1;31mSyntaxError\u001b[0m\u001b[1;31m:\u001b[0m incomplete input\n"
     ]
    }
   ],
   "source": [
    "customer={{\"customer_110\":{\"name\":\"zain\",\n",
    "          \"lastname\":\"alvi\",\n",
    "          \"student_id\":338636},\n",
    "          \"customer_786\":{\"name\":\"david\",\"occupation\":\"manager\",\"adress\":\"toronto\"}}\n",
    "          "
   ]
  },
  {
   "cell_type": "code",
   "execution_count": 35,
   "id": "a9c0f697-bbc1-4572-9a65-17b66d6748b2",
   "metadata": {},
   "outputs": [
    {
     "ename": "SyntaxError",
     "evalue": "unmatched '}' (2883715960.py, line 12)",
     "output_type": "error",
     "traceback": [
      "\u001b[1;36m  Cell \u001b[1;32mIn[35], line 12\u001b[1;36m\u001b[0m\n\u001b[1;33m    }\u001b[0m\n\u001b[1;37m    ^\u001b[0m\n\u001b[1;31mSyntaxError\u001b[0m\u001b[1;31m:\u001b[0m unmatched '}'\n"
     ]
    }
   ],
   "source": [
    "customer=\n",
    "    \"customer_110\": {\n",
    "        \"name\": \"zain\",\n",
    "        \"lastname\": \"alvi\", \n",
    "        \"student_id\": 338636\n",
    "    },\n",
    "    \"customer_786\": {\n",
    "        \"name\": \"david\",\n",
    "        \"occupation\": \"manager\", \n",
    "        \"address\": \"toronto\"\n",
    "    }\n",
    "}"
   ]
  },
  {
   "cell_type": "code",
   "execution_count": 37,
   "id": "76bf543e-16cd-452e-b70e-e84652a8661d",
   "metadata": {},
   "outputs": [
    {
     "data": {
      "text/plain": [
       "{'name': 'zain', 'ispresent': True, 'weight': 81}"
      ]
     },
     "execution_count": 37,
     "metadata": {},
     "output_type": "execute_result"
    }
   ],
   "source": [
    "my_dictionary={\"name\":\"zain\",\"ispresent\":True,\"weight\":81}\n",
    "my_dictionary"
   ]
  },
  {
   "cell_type": "code",
   "execution_count": 43,
   "id": "ae971bab-791d-4c5c-812b-461bed61918b",
   "metadata": {},
   "outputs": [
    {
     "data": {
      "text/plain": [
       "{110: {'name': 'zain', 'lastname': 'alvi', 'student_id': 338636},\n",
       " 786: {'name': 'david', 'occupation': 'manager', 'adress': 'toronto'}}"
      ]
     },
     "execution_count": 43,
     "metadata": {},
     "output_type": "execute_result"
    }
   ],
   "source": [
    "new_cus={110:customer_110,786:customer_786}\n",
    "new_cus"
   ]
  },
  {
   "cell_type": "raw",
   "id": "175bdba9-e398-4a9e-9851-f9676d647711",
   "metadata": {},
   "source": [
    "new_cus={110:customer_110,786:customer_786}"
   ]
  },
  {
   "cell_type": "code",
   "execution_count": 45,
   "id": "bd5bd551-abb1-4c19-ad32-193f7c2b26dc",
   "metadata": {},
   "outputs": [
    {
     "data": {
      "text/plain": [
       "{'name': 'david', 'occupation': 'manager', 'adress': 'toronto'}"
      ]
     },
     "execution_count": 45,
     "metadata": {},
     "output_type": "execute_result"
    }
   ],
   "source": [
    "new_cus={True:customer_110,False:customer_786}\n",
    "new_cus[False]"
   ]
  },
  {
   "cell_type": "markdown",
   "id": "936ce78c-c728-4b6d-9699-481f33a23327",
   "metadata": {},
   "source": [
    "# Looping => dictionary"
   ]
  },
  {
   "cell_type": "code",
   "execution_count": 50,
   "id": "e2fddf08-20ca-4911-a9d7-b9862ee27286",
   "metadata": {},
   "outputs": [
    {
     "name": "stdout",
     "output_type": "stream",
     "text": [
      "name\n",
      "lastname\n",
      "student_id\n"
     ]
    }
   ],
   "source": [
    "for i in customer_110:\n",
    "    print(i)"
   ]
  },
  {
   "cell_type": "code",
   "execution_count": 54,
   "id": "35296470-1731-4b25-a891-f117d239d601",
   "metadata": {},
   "outputs": [
    {
     "data": {
      "text/plain": [
       "dict_items([('name', 'david'), ('occupation', 'manager'), ('adress', 'toronto')])"
      ]
     },
     "execution_count": 54,
     "metadata": {},
     "output_type": "execute_result"
    }
   ],
   "source": [
    "customer_786.items()"
   ]
  },
  {
   "cell_type": "code",
   "execution_count": 52,
   "id": "278bab64-ed39-44ee-9646-e22425204639",
   "metadata": {},
   "outputs": [
    {
     "name": "stdout",
     "output_type": "stream",
     "text": [
      "{True: {'name': 'zain', 'lastname': 'alvi', 'student_id': 338636}, False: {'name': 'david', 'occupation': 'manager', 'adress': 'toronto'}}\n",
      "{True: {'name': 'zain', 'lastname': 'alvi', 'student_id': 338636}, False: {'name': 'david', 'occupation': 'manager', 'adress': 'toronto'}}\n"
     ]
    }
   ],
   "source": [
    "for i in new_cus:\n",
    "    print(new_cus)"
   ]
  },
  {
   "cell_type": "code",
   "execution_count": 60,
   "id": "325061e6-2da8-4cb6-ad76-1de3d59f2f93",
   "metadata": {},
   "outputs": [
    {
     "name": "stdout",
     "output_type": "stream",
     "text": [
      "name => david\n",
      "occupation => manager\n",
      "adress => toronto\n"
     ]
    }
   ],
   "source": [
    "for key,val in customer_786.items():\n",
    "    print(key,\"=>\",val)\n",
    "    "
   ]
  },
  {
   "cell_type": "markdown",
   "id": "08e23e4e-b93b-4c4e-b0bf-573ae6186601",
   "metadata": {},
   "source": [
    "# Creating list of Dictionary\n"
   ]
  },
  {
   "cell_type": "code",
   "execution_count": 65,
   "id": "0d3f3f47-9059-4692-b10b-263136578056",
   "metadata": {},
   "outputs": [
    {
     "data": {
      "text/plain": [
       "{'names': ['zain', 'alvi', 'adam', 'paul'],\n",
       " 'last_name': ['alvi', 'luis', 'carter', 'ahmed'],\n",
       " 'adress': ['pak', 'us', 'ind', 'uk'],\n",
       " 'id': [1680, 21534, 1244, 54200]}"
      ]
     },
     "execution_count": 65,
     "metadata": {},
     "output_type": "execute_result"
    }
   ],
   "source": [
    "customers_list_dict={\"names\":[\"zain\",\"alvi\",\"adam\",\"paul\"],\n",
    "                     \"last_name\":[\"alvi\",\"luis\",\"carter\",\"ahmed\"],\n",
    "                     \"adress\":[\"pak\",\"us\",\"ind\",\"uk\"],\n",
    "                     \"id\":[1680,21534,1244,54200]\n",
    "                    }\n",
    "customers_list_dict"
   ]
  },
  {
   "cell_type": "code",
   "execution_count": 87,
   "id": "44e5f372-aa5c-49c6-9d1c-4dfdb30e2075",
   "metadata": {},
   "outputs": [
    {
     "name": "stdout",
     "output_type": "stream",
     "text": [
      "customer details are :\n",
      "alvi\n",
      "luis\n",
      "us\n",
      "21534\n"
     ]
    }
   ],
   "source": [
    "print(\"customer details are :\")\n",
    "for temp in customers_list_dict.values():\n",
    "    \n",
    "    print(temp[1])"
   ]
  },
  {
   "cell_type": "code",
   "execution_count": 95,
   "id": "8292e880-40ba-4cac-a409-a7d298773561",
   "metadata": {},
   "outputs": [
    {
     "name": "stdout",
     "output_type": "stream",
     "text": [
      "('names', ['zain', 'alvi', 'adam', 'paul'])\n",
      "('last_name', ['alvi', 'luis', 'carter', 'ahmed'])\n",
      "('adress', ['pak', 'us', 'ind', 'uk'])\n",
      "('id', [1680, 21534, 1244, 54200])\n"
     ]
    }
   ],
   "source": [
    "lent = len(customers_list_dict)\n",
    "\n",
    "for lent in customers_list_dict.items():\n",
    "    print(lent)"
   ]
  },
  {
   "cell_type": "code",
   "execution_count": 113,
   "id": "4e2b13e9-8f10-4099-ba02-36aadbd206de",
   "metadata": {},
   "outputs": [
    {
     "name": "stdout",
     "output_type": "stream",
     "text": [
      "id: 1680\n",
      "names: zain\n",
      "last_name: alvi\n",
      "adress: pak\n",
      "  \n",
      "id: 21534\n",
      "names: alvi\n",
      "last_name: luis\n",
      "adress: us\n",
      "  \n",
      "id: 1244\n",
      "names: adam\n",
      "last_name: carter\n",
      "adress: ind\n",
      "  \n",
      "id: 54200\n",
      "names: paul\n",
      "last_name: ahmed\n",
      "adress: uk\n",
      "  \n"
     ]
    }
   ],
   "source": [
    "\n",
    "length = len(customers_list_dict[\"id\"])\n",
    "for i in range(length):\n",
    "    print(f\"id: {customers_list_dict['id'][i]}\")\n",
    "    print(f\"names: {customers_list_dict['names'][i]}\")\n",
    "    print(f\"last_name: {customers_list_dict['last_name'][i]}\")\n",
    "    print(f\"adress: {customers_list_dict['adress'][i]}\")\n",
    "    print(\"  \")\n",
    "     "
   ]
  },
  {
   "cell_type": "markdown",
   "id": "4319a708-fda4-4f22-bf1e-233670bfa519",
   "metadata": {},
   "source": [
    "# List of dictionary\n"
   ]
  },
  {
   "cell_type": "code",
   "execution_count": 116,
   "id": "fbb47d7d-cd80-4d4d-9901-fffd452c2db4",
   "metadata": {},
   "outputs": [
    {
     "data": {
      "text/plain": [
       "[{'f_name': 'zain',\n",
       "  'l_name': 'alvi',\n",
       "  'adress': 'street 445',\n",
       "  'country': 'pak'},\n",
       " {'f_name': 'adam',\n",
       "  'l_name': 'paul',\n",
       "  'adress': 'op garden 447',\n",
       "  'country': 'canada'},\n",
       " {'f_name': 'henry',\n",
       "  'l_name': 'curler',\n",
       "  'adress': 'san sabaschin garden',\n",
       "  'country': 'us'}]"
      ]
     },
     "execution_count": 116,
     "metadata": {},
     "output_type": "execute_result"
    }
   ],
   "source": [
    "new_list=[{\"f_name\": \"zain\",\n",
    "          \"l_name\":\"alvi\",\n",
    "          \"adress\":\"street 445\",\n",
    "          \"country\":\"pak\",\n",
    "          \n",
    "          },\n",
    "          {\"f_name\": \"adam\",\n",
    "          \"l_name\":\"paul\",\n",
    "          \"adress\":\"op garden 447\",\n",
    "          \"country\":\"canada\",\n",
    "          \n",
    "          },\n",
    "          {\"f_name\": \"henry\",\n",
    "          \"l_name\":\"curler\",\n",
    "          \"adress\":\"san sabaschin garden\",\n",
    "          \"country\":\"us\",\n",
    "          \n",
    "          },\n",
    "          \n",
    "         ]\n",
    "new_list"
   ]
  },
  {
   "cell_type": "code",
   "execution_count": 118,
   "id": "acc5925a-5d03-4991-80d7-a7e19b9183d5",
   "metadata": {},
   "outputs": [
    {
     "data": {
      "text/plain": [
       "'henry'"
      ]
     },
     "execution_count": 118,
     "metadata": {},
     "output_type": "execute_result"
    }
   ],
   "source": [
    "new_list[2][\"f_name\"]"
   ]
  },
  {
   "cell_type": "code",
   "execution_count": 120,
   "id": "3043da4c-182b-42cd-9e2f-c380a194eced",
   "metadata": {},
   "outputs": [],
   "source": [
    "new_list.append({\"name\":\"zain\",\"ispresent\":True,\"weight\":81})"
   ]
  },
  {
   "cell_type": "code",
   "execution_count": 122,
   "id": "37e2f07d-eab3-4e88-b005-7f1f07704fc6",
   "metadata": {},
   "outputs": [
    {
     "data": {
      "text/plain": [
       "[{'f_name': 'zain',\n",
       "  'l_name': 'alvi',\n",
       "  'adress': 'street 445',\n",
       "  'country': 'pak'},\n",
       " {'f_name': 'adam',\n",
       "  'l_name': 'paul',\n",
       "  'adress': 'op garden 447',\n",
       "  'country': 'canada'},\n",
       " {'f_name': 'henry',\n",
       "  'l_name': 'curler',\n",
       "  'adress': 'san sabaschin garden',\n",
       "  'country': 'us'},\n",
       " {'name': 'zain', 'ispresent': True, 'weight': 81}]"
      ]
     },
     "execution_count": 122,
     "metadata": {},
     "output_type": "execute_result"
    }
   ],
   "source": [
    "new_list"
   ]
  },
  {
   "cell_type": "code",
   "execution_count": 124,
   "id": "36b95d8b-0895-4e7a-9886-e16992a866c1",
   "metadata": {},
   "outputs": [
    {
     "data": {
      "text/plain": [
       "{'name': 'zain', 'ispresent': True, 'weight': 81}"
      ]
     },
     "execution_count": 124,
     "metadata": {},
     "output_type": "execute_result"
    }
   ],
   "source": [
    "new_list[3]"
   ]
  },
  {
   "cell_type": "code",
   "execution_count": 134,
   "id": "d24a2555-6742-4edf-b3ea-e701808e6ab0",
   "metadata": {},
   "outputs": [],
   "source": [
    "new_list+={\"name\":\"zain\",\n",
    "          \"lastname\":\"alvi\",\n",
    "          \"student_id\":338636}\n"
   ]
  },
  {
   "cell_type": "code",
   "execution_count": 136,
   "id": "e25f05a1-df00-42c1-a82b-bf32d4b797ae",
   "metadata": {},
   "outputs": [
    {
     "data": {
      "text/plain": [
       "[{'f_name': 'zain',\n",
       "  'l_name': 'alvi',\n",
       "  'adress': 'street 445',\n",
       "  'country': 'pak'},\n",
       " {'f_name': 'adam',\n",
       "  'l_name': 'paul',\n",
       "  'adress': 'op garden 447',\n",
       "  'country': 'canada'},\n",
       " {'f_name': 'henry',\n",
       "  'l_name': 'curler',\n",
       "  'adress': 'san sabaschin garden',\n",
       "  'country': 'us'},\n",
       " {'name': 'zain', 'ispresent': True, 'weight': 81},\n",
       " 'name',\n",
       " 'lastname',\n",
       " 'student_id']"
      ]
     },
     "execution_count": 136,
     "metadata": {},
     "output_type": "execute_result"
    }
   ],
   "source": [
    "new_list"
   ]
  },
  {
   "cell_type": "code",
   "execution_count": 138,
   "id": "e95183c5-1684-4dc2-9b69-5b663348461d",
   "metadata": {},
   "outputs": [],
   "source": [
    "del new_list[4]"
   ]
  },
  {
   "cell_type": "code",
   "execution_count": 140,
   "id": "2c32f1df-b462-46c2-a5dc-0e4f07492ffb",
   "metadata": {},
   "outputs": [
    {
     "data": {
      "text/plain": [
       "[{'f_name': 'zain',\n",
       "  'l_name': 'alvi',\n",
       "  'adress': 'street 445',\n",
       "  'country': 'pak'},\n",
       " {'f_name': 'adam',\n",
       "  'l_name': 'paul',\n",
       "  'adress': 'op garden 447',\n",
       "  'country': 'canada'},\n",
       " {'f_name': 'henry',\n",
       "  'l_name': 'curler',\n",
       "  'adress': 'san sabaschin garden',\n",
       "  'country': 'us'},\n",
       " {'name': 'zain', 'ispresent': True, 'weight': 81},\n",
       " 'lastname',\n",
       " 'student_id']"
      ]
     },
     "execution_count": 140,
     "metadata": {},
     "output_type": "execute_result"
    }
   ],
   "source": [
    "new_list"
   ]
  },
  {
   "cell_type": "code",
   "execution_count": 142,
   "id": "5a3039c5-50a6-4ba8-9def-918c9a259b68",
   "metadata": {},
   "outputs": [],
   "source": [
    "del new_list[5]\n"
   ]
  },
  {
   "cell_type": "code",
   "execution_count": 144,
   "id": "1f709bfe-1a06-4891-a542-3d3f76beace1",
   "metadata": {},
   "outputs": [
    {
     "ename": "IndexError",
     "evalue": "list assignment index out of range",
     "output_type": "error",
     "traceback": [
      "\u001b[1;31m---------------------------------------------------------------------------\u001b[0m",
      "\u001b[1;31mIndexError\u001b[0m                                Traceback (most recent call last)",
      "Cell \u001b[1;32mIn[144], line 1\u001b[0m\n\u001b[1;32m----> 1\u001b[0m \u001b[38;5;28;01mdel\u001b[39;00m new_list[\u001b[38;5;241m6\u001b[39m]\n",
      "\u001b[1;31mIndexError\u001b[0m: list assignment index out of range"
     ]
    }
   ],
   "source": [
    "del new_list[6]"
   ]
  },
  {
   "cell_type": "code",
   "execution_count": 146,
   "id": "5ccccdae-8112-459e-a6a4-ecdd1de6e4c1",
   "metadata": {},
   "outputs": [
    {
     "data": {
      "text/plain": [
       "[{'f_name': 'zain',\n",
       "  'l_name': 'alvi',\n",
       "  'adress': 'street 445',\n",
       "  'country': 'pak'},\n",
       " {'f_name': 'adam',\n",
       "  'l_name': 'paul',\n",
       "  'adress': 'op garden 447',\n",
       "  'country': 'canada'},\n",
       " {'f_name': 'henry',\n",
       "  'l_name': 'curler',\n",
       "  'adress': 'san sabaschin garden',\n",
       "  'country': 'us'},\n",
       " {'name': 'zain', 'ispresent': True, 'weight': 81},\n",
       " 'lastname']"
      ]
     },
     "execution_count": 146,
     "metadata": {},
     "output_type": "execute_result"
    }
   ],
   "source": [
    "new_list"
   ]
  },
  {
   "cell_type": "code",
   "execution_count": 148,
   "id": "25737f42-0f35-4c7f-a616-a371613ca413",
   "metadata": {},
   "outputs": [
    {
     "data": {
      "text/plain": [
       "5"
      ]
     },
     "execution_count": 148,
     "metadata": {},
     "output_type": "execute_result"
    }
   ],
   "source": [
    "len(new_list)"
   ]
  },
  {
   "cell_type": "code",
   "execution_count": 152,
   "id": "035194aa-22fb-4459-93f3-f981033bb167",
   "metadata": {},
   "outputs": [
    {
     "data": {
      "text/plain": [
       "'lastname'"
      ]
     },
     "execution_count": 152,
     "metadata": {},
     "output_type": "execute_result"
    }
   ],
   "source": [
    "new_list[4]"
   ]
  },
  {
   "cell_type": "code",
   "execution_count": 154,
   "id": "2f03cc56-72d4-4334-a1d4-6b070db05f9d",
   "metadata": {},
   "outputs": [],
   "source": [
    "del new_list[4]\n"
   ]
  },
  {
   "cell_type": "code",
   "execution_count": 156,
   "id": "a6a03639-81a8-447c-b0cb-48cebe0ce287",
   "metadata": {},
   "outputs": [],
   "source": [
    "new_list.append({\"name\":\"zain\",\n",
    "                 \"ispresent\":True,\n",
    "                 \"weight\":81})"
   ]
  },
  {
   "cell_type": "code",
   "execution_count": 158,
   "id": "0e6d8196-81ce-4164-a1a8-47cd1389bbb2",
   "metadata": {},
   "outputs": [
    {
     "data": {
      "text/plain": [
       "[{'f_name': 'zain',\n",
       "  'l_name': 'alvi',\n",
       "  'adress': 'street 445',\n",
       "  'country': 'pak'},\n",
       " {'f_name': 'adam',\n",
       "  'l_name': 'paul',\n",
       "  'adress': 'op garden 447',\n",
       "  'country': 'canada'},\n",
       " {'f_name': 'henry',\n",
       "  'l_name': 'curler',\n",
       "  'adress': 'san sabaschin garden',\n",
       "  'country': 'us'},\n",
       " {'name': 'zain', 'ispresent': True, 'weight': 81},\n",
       " {'name': 'zain', 'ispresent': True, 'weight': 81}]"
      ]
     },
     "execution_count": 158,
     "metadata": {},
     "output_type": "execute_result"
    }
   ],
   "source": [
    "new_list"
   ]
  },
  {
   "cell_type": "code",
   "execution_count": 160,
   "id": "f032206b-93ee-4e87-bc37-7e188c28b77d",
   "metadata": {},
   "outputs": [],
   "source": [
    "del new_list[4]\n"
   ]
  },
  {
   "cell_type": "code",
   "execution_count": 162,
   "id": "f13f70d3-abed-4b94-8952-a9d3084da8be",
   "metadata": {},
   "outputs": [
    {
     "data": {
      "text/plain": [
       "[{'f_name': 'zain',\n",
       "  'l_name': 'alvi',\n",
       "  'adress': 'street 445',\n",
       "  'country': 'pak'},\n",
       " {'f_name': 'adam',\n",
       "  'l_name': 'paul',\n",
       "  'adress': 'op garden 447',\n",
       "  'country': 'canada'},\n",
       " {'f_name': 'henry',\n",
       "  'l_name': 'curler',\n",
       "  'adress': 'san sabaschin garden',\n",
       "  'country': 'us'},\n",
       " {'name': 'zain', 'ispresent': True, 'weight': 81}]"
      ]
     },
     "execution_count": 162,
     "metadata": {},
     "output_type": "execute_result"
    }
   ],
   "source": [
    "new_list"
   ]
  },
  {
   "cell_type": "code",
   "execution_count": 168,
   "id": "01a9221e-6999-4a70-a758-884d4b30e1c3",
   "metadata": {},
   "outputs": [],
   "source": [
    "new_list.append({\"name\":\"ahmed\"})"
   ]
  },
  {
   "cell_type": "code",
   "execution_count": 166,
   "id": "2b326cdb-2947-4fb3-9b2a-02c0fe2386b1",
   "metadata": {},
   "outputs": [
    {
     "data": {
      "text/plain": [
       "[{'f_name': 'zain',\n",
       "  'l_name': 'alvi',\n",
       "  'adress': 'street 445',\n",
       "  'country': 'pak'},\n",
       " {'f_name': 'adam',\n",
       "  'l_name': 'paul',\n",
       "  'adress': 'op garden 447',\n",
       "  'country': 'canada'},\n",
       " {'f_name': 'henry',\n",
       "  'l_name': 'curler',\n",
       "  'adress': 'san sabaschin garden',\n",
       "  'country': 'us'},\n",
       " {'name': 'zain', 'ispresent': True, 'weight': 81},\n",
       " [{'name': 'ahmed'}]]"
      ]
     },
     "execution_count": 166,
     "metadata": {},
     "output_type": "execute_result"
    }
   ],
   "source": [
    "new_list"
   ]
  },
  {
   "cell_type": "code",
   "execution_count": 170,
   "id": "edcefad7-747f-400f-a20e-4a3fe9600f45",
   "metadata": {},
   "outputs": [
    {
     "data": {
      "text/plain": [
       "[{'f_name': 'zain',\n",
       "  'l_name': 'alvi',\n",
       "  'adress': 'street 445',\n",
       "  'country': 'pak'},\n",
       " {'f_name': 'adam',\n",
       "  'l_name': 'paul',\n",
       "  'adress': 'op garden 447',\n",
       "  'country': 'canada'},\n",
       " {'f_name': 'henry',\n",
       "  'l_name': 'curler',\n",
       "  'adress': 'san sabaschin garden',\n",
       "  'country': 'us'},\n",
       " {'name': 'zain', 'ispresent': True, 'weight': 81},\n",
       " [{'name': 'ahmed'}],\n",
       " {'name': 'ahmed'}]"
      ]
     },
     "execution_count": 170,
     "metadata": {},
     "output_type": "execute_result"
    }
   ],
   "source": [
    "new_list"
   ]
  },
  {
   "cell_type": "code",
   "execution_count": 172,
   "id": "99ae51ed-b6f5-434c-9868-7af80fc9fcfd",
   "metadata": {},
   "outputs": [
    {
     "data": {
      "text/plain": [
       "6"
      ]
     },
     "execution_count": 172,
     "metadata": {},
     "output_type": "execute_result"
    }
   ],
   "source": [
    "len(new_list)"
   ]
  },
  {
   "cell_type": "code",
   "execution_count": 174,
   "id": "a0930b7a-a7a4-4cda-94a4-e1a65fd4d476",
   "metadata": {},
   "outputs": [],
   "source": [
    "del new_list[4]"
   ]
  },
  {
   "cell_type": "code",
   "execution_count": 176,
   "id": "9aa509d9-aed8-4c4c-8c75-f7a9a7b15206",
   "metadata": {},
   "outputs": [
    {
     "data": {
      "text/plain": [
       "[{'f_name': 'zain',\n",
       "  'l_name': 'alvi',\n",
       "  'adress': 'street 445',\n",
       "  'country': 'pak'},\n",
       " {'f_name': 'adam',\n",
       "  'l_name': 'paul',\n",
       "  'adress': 'op garden 447',\n",
       "  'country': 'canada'},\n",
       " {'f_name': 'henry',\n",
       "  'l_name': 'curler',\n",
       "  'adress': 'san sabaschin garden',\n",
       "  'country': 'us'},\n",
       " {'name': 'zain', 'ispresent': True, 'weight': 81},\n",
       " {'name': 'ahmed'}]"
      ]
     },
     "execution_count": 176,
     "metadata": {},
     "output_type": "execute_result"
    }
   ],
   "source": [
    "new_list"
   ]
  },
  {
   "cell_type": "code",
   "execution_count": 180,
   "id": "8a92cfca-ea4d-4644-b74a-be5d008b4e61",
   "metadata": {},
   "outputs": [],
   "source": [
    "customers = {\n",
    " 0:{\n",
    "\n",
    " \"first name\":\"John\",\n",
    " \"last name\": \"Ogden\",\n",
    " \"address\": \"301 Arbor Rd.\",\n",
    " },\n",
    " 1:{\n",
    "\n",
    " \"first name\":\"Ann\",\n",
    " \"last name\": \"Sattermyer\",\n",
    " \"address\": \"PO Box 1145\",\n",
    "},\n",
    " \n",
    " 2:{\n",
    "\n",
    " \"first name\":\"Jill\",\n",
    " \"last name\": \"Somers\",\n",
    " \"address\": \"3 Main St.\",\n",
    "},\n",
    " }\n",
    "\n"
   ]
  },
  {
   "cell_type": "code",
   "execution_count": 186,
   "id": "1590a924-a21a-4818-b4ba-eb17ea9e6418",
   "metadata": {},
   "outputs": [
    {
     "data": {
      "text/plain": [
       "{'first name': 'John', 'last name': 'Ogden', 'address': '301 Arbor Rd.'}"
      ]
     },
     "execution_count": 186,
     "metadata": {},
     "output_type": "execute_result"
    }
   ],
   "source": [
    "customers[0]"
   ]
  },
  {
   "cell_type": "code",
   "execution_count": null,
   "id": "1e87d4e4-f654-44e3-96d0-9b29e71f9cf8",
   "metadata": {},
   "outputs": [],
   "source": []
  }
 ],
 "metadata": {
  "kernelspec": {
   "display_name": "Python 3 (ipykernel)",
   "language": "python",
   "name": "python3"
  },
  "language_info": {
   "codemirror_mode": {
    "name": "ipython",
    "version": 3
   },
   "file_extension": ".py",
   "mimetype": "text/x-python",
   "name": "python",
   "nbconvert_exporter": "python",
   "pygments_lexer": "ipython3",
   "version": "3.12.7"
  }
 },
 "nbformat": 4,
 "nbformat_minor": 5
}
