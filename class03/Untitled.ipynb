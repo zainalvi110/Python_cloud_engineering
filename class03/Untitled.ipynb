{
 "cells": [
  {
   "cell_type": "markdown",
   "id": "dcbc5d08-fcf3-4709-aeb4-f32ff055c83f",
   "metadata": {},
   "source": [
    "# IF_ELSE(CONDITIONAL)"
   ]
  },
  {
   "cell_type": "code",
   "execution_count": 9,
   "id": "5f8dd296-6dfb-4166-90c8-12aba3f6feb8",
   "metadata": {},
   "outputs": [
    {
     "name": "stdout",
     "output_type": "stream",
     "text": [
      "do something mf!\n"
     ]
    }
   ],
   "source": [
    " name = \"alvi\"\n",
    "if name ==\"zain\":\n",
    "    print(\"you are a student\")\n",
    "else:\n",
    "    print(\"do something mf!\")"
   ]
  },
  {
   "cell_type": "code",
   "execution_count": 11,
   "id": "57eddff2-5ef7-4f3e-a3ee-0483ad4b8721",
   "metadata": {},
   "outputs": [
    {
     "name": "stdout",
     "output_type": "stream",
     "text": [
      "zain == zain\n"
     ]
    }
   ],
   "source": [
    "print(\"zain == zain\")"
   ]
  },
  {
   "cell_type": "code",
   "execution_count": 13,
   "id": "f4c79557-5fa5-4972-b986-e4add4a50aed",
   "metadata": {},
   "outputs": [
    {
     "data": {
      "text/plain": [
       "'zain == zain'"
      ]
     },
     "execution_count": 13,
     "metadata": {},
     "output_type": "execute_result"
    }
   ],
   "source": [
    "\"zain == zain\""
   ]
  },
  {
   "cell_type": "code",
   "execution_count": 15,
   "id": "06a8e937-dd96-41f2-8eea-dc9227b307a3",
   "metadata": {},
   "outputs": [
    {
     "name": "stdout",
     "output_type": "stream",
     "text": [
      "False\n"
     ]
    }
   ],
   "source": [
    "print(18>=55)"
   ]
  },
  {
   "cell_type": "code",
   "execution_count": 17,
   "id": "c9256e28-8006-41e3-a748-1b0ba751f781",
   "metadata": {},
   "outputs": [
    {
     "name": "stdout",
     "output_type": "stream",
     "text": [
      "True\n"
     ]
    }
   ],
   "source": [
    "print(\"zain\" ==\"zain\")\n"
   ]
  },
  {
   "cell_type": "code",
   "execution_count": 29,
   "id": "22d46f98-7d20-402a-aba6-3492c1ff403b",
   "metadata": {},
   "outputs": [
    {
     "ename": "IndentationError",
     "evalue": "unexpected indent (3264643467.py, line 3)",
     "output_type": "error",
     "traceback": [
      "\u001b[1;36m  Cell \u001b[1;32mIn[29], line 3\u001b[1;36m\u001b[0m\n\u001b[1;33m    if  (student == \"zain\") and (teacher == \"qasim\"):\u001b[0m\n\u001b[1;37m    ^\u001b[0m\n\u001b[1;31mIndentationError\u001b[0m\u001b[1;31m:\u001b[0m unexpected indent\n"
     ]
    }
   ],
   "source": [
    "student =\"zain\"\n",
    "teacher =\"qasim\"\n",
    " if  (student == \"zain\") and (teacher == \"qasim\"):\n",
    "print(\"you are enrolled in cde_batch 01\")"
   ]
  },
  {
   "cell_type": "code",
   "execution_count": 31,
   "id": "1f1c2245-cb6d-49d0-b086-427b2caf51c2",
   "metadata": {},
   "outputs": [
    {
     "name": "stdout",
     "output_type": "stream",
     "text": [
      "you are enrolled in cde_batch 01\n"
     ]
    }
   ],
   "source": [
    "student = \"zain\"\n",
    "teacher = \"qasim\"\n",
    "if (student == \"zain\") and (teacher == \"qasim\"):\n",
    "    print(\"you are enrolled in cde_batch 01\")"
   ]
  },
  {
   "cell_type": "markdown",
   "id": "cec80f90-51a4-4a99-b10e-d96e6c6459ae",
   "metadata": {},
   "source": [
    "# AND OR NOT operators"
   ]
  },
  {
   "cell_type": "markdown",
   "id": "e48097ce-b54d-462b-a8ad-0f6ad2cd48a4",
   "metadata": {},
   "source": [
    "# ELSEIF"
   ]
  },
  {
   "cell_type": "code",
   "execution_count": null,
   "id": "a7568ab5-e3aa-4422-8a14-abfaeeca79f6",
   "metadata": {},
   "outputs": [],
   "source": [
    "name =\"zain\"\n",
    "if name ==\"zain\":\n",
    "    print(\"student\")\n",
    "                        "
   ]
  }
 ],
 "metadata": {
  "kernelspec": {
   "display_name": "Python 3 (ipykernel)",
   "language": "python",
   "name": "python3"
  },
  "language_info": {
   "codemirror_mode": {
    "name": "ipython",
    "version": 3
   },
   "file_extension": ".py",
   "mimetype": "text/x-python",
   "name": "python",
   "nbconvert_exporter": "python",
   "pygments_lexer": "ipython3",
   "version": "3.12.7"
  }
 },
 "nbformat": 4,
 "nbformat_minor": 5
}
