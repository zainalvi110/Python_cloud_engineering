{
 "cells": [
  {
   "cell_type": "markdown",
   "id": "9c75d88f-4384-459f-ba74-b45223992e76",
   "metadata": {},
   "source": [
    "## CASE STUDY: TITANIC DATA ANALYSIS"
   ]
  },
  {
   "cell_type": "markdown",
   "id": "9952f570-55c4-4d33-933d-98d126ce2d4e",
   "metadata": {},
   "source": [
    "- DataFrames\n",
    "    - loading & basic analysis\n",
    "    - sorting & subsetting\n",
    "    - creating new columns\n",
    "- Aggregating Data\n",
    "    - summary statistics\n",
    "    - counting\n",
    "    - grouped summary statistics"
   ]
  },
  {
   "cell_type": "markdown",
   "id": "d69c84cb-c829-4aec-9561-e9860222e3a1",
   "metadata": {},
   "source": [
    "## 1. Data loading & Basic Analysis"
   ]
  },
  {
   "cell_type": "markdown",
   "id": "6a060bda-c263-413e-af7e-372afc1480a1",
   "metadata": {},
   "source": [
    "1. Import Libraries"
   ]
  },
  {
   "cell_type": "markdown",
   "id": "5e3baac5-5b6b-4c9d-95cb-9cfdd11f59e3",
   "metadata": {},
   "source": [
    "2. Read Titanic Comma Seperated file as `titanic_df`"
   ]
  },
  {
   "cell_type": "markdown",
   "id": "ad49e86a-9f1f-4931-97ea-b4283a03c0e9",
   "metadata": {},
   "source": [
    "3. Basic Analysis with `.info()`, `.describe()` methods."
   ]
  },
  {
   "cell_type": "markdown",
   "id": "7fbecdd9-99c1-432d-bcbf-4407f79bfae8",
   "metadata": {},
   "source": [
    "4. Basic Analysis with `.shape`, `.columns`, `.values`, `.index`"
   ]
  },
  {
   "cell_type": "markdown",
   "id": "ba42bcb1-e8e9-48e4-be98-4b36d56d01bf",
   "metadata": {},
   "source": [
    "### 2. Sorting & SubSetting"
   ]
  },
  {
   "cell_type": "markdown",
   "id": "a9c9cc61-256d-43a9-927f-cbf1b0119de1",
   "metadata": {},
   "source": [
    "5. Sorting Data Set by Single columns `.sort_values()`\n",
    "- by=\"\"\n",
    "- ascending=\"\"\n",
    "- na_position=\"\""
   ]
  },
  {
   "cell_type": "markdown",
   "id": "a0ae235f-f9ba-4950-b46e-a35260a8d3c5",
   "metadata": {},
   "source": [
    "6. Sorting DataSet by Multiple columns `.sort_values()`"
   ]
  },
  {
   "cell_type": "markdown",
   "id": "b355517b-1565-4662-b586-e20cfd6a8111",
   "metadata": {},
   "source": [
    "7. Subsetting Single column & Multiple columns"
   ]
  },
  {
   "cell_type": "markdown",
   "id": "0e654e97-f2b4-4112-a67f-a97e1c363253",
   "metadata": {},
   "source": [
    "8. Subsetting based on Specific Requirements\n",
    "- Passengers of age greater than 30\n",
    "- Passengers whose gender is `'Male'` only\n",
    "- Male Passengers who Survived in the Incident\n",
    "- Passengers who PClass isin([1,2])\n",
    "- Give Discounts of 10 percent"
   ]
  },
  {
   "cell_type": "markdown",
   "id": "818da0c5-40d2-49be-8e82-788e58558b02",
   "metadata": {},
   "source": [
    "## 3. Aggregating Data\n",
    "\n",
    "#### Summarizing numerical data\n",
    "- .mean()\n",
    "- .median()\n",
    "- .min()\n",
    "- .maxx()\n",
    "- .var()\n",
    "- .std()\n",
    "- .sum()\n",
    "- .quantile()"
   ]
  },
  {
   "cell_type": "raw",
   "id": "ec3815a1-0f40-4cac-b432-376402c1824b",
   "metadata": {},
   "source": [
    "titanic['DOB'].min() #<-- work same as on other columns\n",
    "titanic['DOB'].max()"
   ]
  },
  {
   "cell_type": "markdown",
   "id": "00f1783b-b506-4737-abaf-e80a051c34ca",
   "metadata": {},
   "source": [
    "#### .agg() method\n",
    "\n",
    "- One or more operation on single Or multiple columns\n",
    "- Function creation = parametrs eg: `def pct30(column):return column.quantile(0.3)`\n",
    "- Function Calling = Arguments eg: `titanic['Age'].agg(pct30)`"
   ]
  },
  {
   "cell_type": "markdown",
   "id": "bd9a9dc2-3726-4f9d-a745-e0301d580cc2",
   "metadata": {},
   "source": [
    "#### Characteristics of Lamdba function\n",
    "\n",
    "- One line funtion\n",
    "- Without name function\n",
    "- Not used even before\n",
    "- Not used even after"
   ]
  },
  {
   "cell_type": "markdown",
   "id": "a91cc5e9-1b09-4808-9c8d-f8d542dba091",
   "metadata": {},
   "source": [
    "## 4. Cumulative statistics\n",
    "- .cumsum()\n",
    "- .cummax()\n",
    "- .cummin()\n",
    "- .cumprod()"
   ]
  },
  {
   "cell_type": "markdown",
   "id": "7fbbc7e3-7a31-4af7-b166-99e414325971",
   "metadata": {},
   "source": [
    "## 5. Counting\n",
    "\n",
    "- So far, in this chapter, you've learned how to ``summarize numeric variables``. In below notebook, you'll learn how to ``summarize categorical data`` using counting.\n",
    "\n",
    "- Categorical variables represent types of **data which may be divided into groups**. Examples of categorical variables are race, sex, age group, and educational"
   ]
  },
  {
   "cell_type": "markdown",
   "id": "1e5426bf-ae7f-469b-9007-7194d7f87fcf",
   "metadata": {},
   "source": [
    "#### Drop Duplicates by Single & Multiple Columns\n",
    "- drop_duplicates(subset= \"\")"
   ]
  },
  {
   "cell_type": "markdown",
   "id": "18cdcc1f-ee72-4858-8889-2388434885d5",
   "metadata": {},
   "source": [
    "#### Getting Count Stats using `.value_counts()`\n",
    "- sort=False\n",
    "- normalize=True"
   ]
  },
  {
   "cell_type": "markdown",
   "id": "ea94b06f-2b63-4008-b700-de766a20f902",
   "metadata": {},
   "source": [
    "## 6. Group summary statistics\n",
    "\n",
    "- Average age of Males & Females Using subsetting\n",
    "- Average age of Males & Females Using `.groupby()`\n",
    "- Apply Different statistics methods like mean, counts, max & group."
   ]
  },
  {
   "cell_type": "markdown",
   "id": "f09ac2cd-62d7-4ad0-8d1a-b14a92b1e6d8",
   "metadata": {},
   "source": [
    "## Pivot tables"
   ]
  },
  {
   "cell_type": "raw",
   "id": "77274082-33e9-41ee-83f8-e7b27d30691f",
   "metadata": {},
   "source": [
    "titanic.pivot_table(\n",
    "    values=None,\n",
    "    index=None,\n",
    "    columns=None,\n",
    "    aggfunc='mean',\n",
    "    fill_value=None,\n",
    "    margins=False,\n",
    "    dropna=True,\n",
    "    margins_name='All',\n",
    "    observed=False,\n",
    ")"
   ]
  },
  {
   "cell_type": "code",
   "execution_count": null,
   "id": "98d347b8-6350-4867-8bc5-f1a4d52896c4",
   "metadata": {},
   "outputs": [],
   "source": [
    "#titanic.groupby('Sex')['Age'].mean()"
   ]
  },
  {
   "cell_type": "markdown",
   "id": "85658658-31a4-43c0-b2bf-0a3722aa9666",
   "metadata": {},
   "source": [
    "- The ``\"values\"`` argument is the column that you want to ``summarize/Operation``, and the ``\"index\"`` column is the column that you want to ``group by``. \n",
    "- By default, pivot_table takes the **mean** value for each group."
   ]
  },
  {
   "cell_type": "markdown",
   "id": "2714028e-afb2-4caf-9678-7c16ec38fa1b",
   "metadata": {},
   "source": [
    "#### Thanks:)\n",
    "- Assignment work on Dogs Dataset"
   ]
  },
  {
   "cell_type": "code",
   "execution_count": null,
   "id": "5172e7ec-09f7-4825-b433-d33025db10cf",
   "metadata": {},
   "outputs": [],
   "source": []
  }
 ],
 "metadata": {
  "kernelspec": {
   "display_name": "Python 3 (ipykernel)",
   "language": "python",
   "name": "python3"
  },
  "language_info": {
   "codemirror_mode": {
    "name": "ipython",
    "version": 3
   },
   "file_extension": ".py",
   "mimetype": "text/x-python",
   "name": "python",
   "nbconvert_exporter": "python",
   "pygments_lexer": "ipython3",
   "version": "3.11.5"
  }
 },
 "nbformat": 4,
 "nbformat_minor": 5
}
