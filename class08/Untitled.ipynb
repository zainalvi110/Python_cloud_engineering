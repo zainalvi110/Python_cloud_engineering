{
 "cells": [
  {
   "cell_type": "markdown",
   "id": "05745be5-52e6-405b-866e-4ace2cfc4373",
   "metadata": {},
   "source": [
    "### functions chapter 41"
   ]
  },
  {
   "cell_type": "code",
   "execution_count": 3,
   "id": "98fdc1ad-bdff-44c6-bb3e-6fd14cfc9551",
   "metadata": {},
   "outputs": [],
   "source": [
    "# syntax\n"
   ]
  },
  {
   "cell_type": "code",
   "execution_count": 5,
   "id": "b6b6a91a-b887-4fe3-b60e-5ee3f5fb7e09",
   "metadata": {},
   "outputs": [
    {
     "name": "stdout",
     "output_type": "stream",
     "text": [
      "welcome to zaitoon it park\n"
     ]
    }
   ],
   "source": [
    "def greet_saylani():\n",
    "    print(\"welcome to zaitoon it park\")\n",
    "\n",
    "greet_saylani()"
   ]
  },
  {
   "cell_type": "code",
   "execution_count": 7,
   "id": "eb8c93d3-f2f1-4c98-a645-a7042e19336b",
   "metadata": {},
   "outputs": [
    {
     "name": "stdout",
     "output_type": "stream",
     "text": [
      "welcome to zaitoon it park\n"
     ]
    }
   ],
   "source": [
    "greet_saylani()"
   ]
  },
  {
   "cell_type": "code",
   "execution_count": 11,
   "id": "cce4ab73-7db3-4efe-9a3d-a29bcbafb7c7",
   "metadata": {},
   "outputs": [
    {
     "name": "stdout",
     "output_type": "stream",
     "text": [
      "13\n"
     ]
    }
   ],
   "source": [
    "def add(num1,num2):\n",
    "    sum= num1 + num2\n",
    "    print(sum)\n",
    "\n",
    "add(5,8)"
   ]
  },
  {
   "cell_type": "code",
   "execution_count": 17,
   "id": "55f2bbc2-5786-4979-a8ae-684f179eaa4e",
   "metadata": {},
   "outputs": [
    {
     "name": "stdout",
     "output_type": "stream",
     "text": [
      "-3\n"
     ]
    }
   ],
   "source": [
    "def sub(num1 =0,num2 =0): #aati ha to thk ha wrna default value 0 ha;\n",
    "    sub= num1 - num2\n",
    "    print(sub)\n",
    "\n",
    "sub(5,8)"
   ]
  },
  {
   "cell_type": "code",
   "execution_count": 19,
   "id": "20f3ec23-03a7-45f8-b3ff-f405098670f8",
   "metadata": {},
   "outputs": [
    {
     "name": "stdout",
     "output_type": "stream",
     "text": [
      "1\n"
     ]
    }
   ],
   "source": [
    "sub(1)"
   ]
  },
  {
   "cell_type": "code",
   "execution_count": 29,
   "id": "c2789beb-b088-463d-93db-42c8b106d3d1",
   "metadata": {},
   "outputs": [],
   "source": [
    "def salary_cal(salary, bonus=0.15):\n",
    "    salaryafter = salary +(salary*bonus)\n",
    "    print(salaryafter)\n",
    "    \n",
    "    salary_cal(45000)"
   ]
  },
  {
   "cell_type": "code",
   "execution_count": 39,
   "id": "f8e70440-c754-448a-b41c-7112f53a7fe2",
   "metadata": {},
   "outputs": [
    {
     "name": "stdout",
     "output_type": "stream",
     "text": [
      "6750.0\n",
      "51750.0\n"
     ]
    }
   ],
   "source": [
    "def yearly_bonus(salary):\n",
    "    bonus= salary*0.15\n",
    "    print(bonus)\n",
    "    print(bonus + salary)\n",
    "\n",
    "yearly_bonus(45000)"
   ]
  },
  {
   "cell_type": "code",
   "execution_count": 48,
   "id": "17426308-8f1e-4f6a-91ac-56df308a45c6",
   "metadata": {},
   "outputs": [
    {
     "ename": "IndentationError",
     "evalue": "unindent does not match any outer indentation level (<string>, line 5)",
     "output_type": "error",
     "traceback": [
      "\u001b[1;36m  File \u001b[1;32m<string>:5\u001b[1;36m\u001b[0m\n\u001b[1;33m    for char in text:\u001b[0m\n\u001b[1;37m                     ^\u001b[0m\n\u001b[1;31mIndentationError\u001b[0m\u001b[1;31m:\u001b[0m unindent does not match any outer indentation level\n"
     ]
    }
   ],
   "source": [
    "def checkstring(text):\n",
    "    uppercase=0\n",
    "    lowercase=0\n",
    "    \n",
    "    for char in text:\n",
    "        if text.isupper():\n",
    "          uppercase +=1\n",
    "elif text.islower():\n",
    "    lowercase +=1\n",
    "\n",
    "print(uppercase,lowercase)\n",
    "\n",
    "checkstring(\"Alvi is Here\")\n",
    "    "
   ]
  },
  {
   "cell_type": "code",
   "execution_count": 58,
   "id": "4ba3269b-7242-4187-9968-720b31750252",
   "metadata": {},
   "outputs": [
    {
     "data": {
      "text/plain": [
       "(2, 8)"
      ]
     },
     "execution_count": 58,
     "metadata": {},
     "output_type": "execute_result"
    }
   ],
   "source": [
    "def checkstring(text):\n",
    "    uppercase = 0\n",
    "    lowercase = 0\n",
    "    \n",
    "    for char in text:  # Changed 'text' to 'char' in the loop to avoid shadowing the parameter\n",
    "        if char.isupper():\n",
    "            uppercase += 1\n",
    "        elif char.islower():\n",
    "            lowercase += 1\n",
    "    \n",
    "    return uppercase, lowercase\n",
    "\n",
    "checkstring(\"Alvi is Here\")"
   ]
  },
  {
   "cell_type": "code",
   "execution_count": 54,
   "id": "a9159ac6-cbd8-47f0-b295-8eaea525a1da",
   "metadata": {},
   "outputs": [
    {
     "name": "stdout",
     "output_type": "stream",
     "text": [
      "the winning team is real madrid\n",
      "business was 48664$\n",
      "('by penalty', 'captain:salah')\n"
     ]
    }
   ],
   "source": [
    "def display_result(team ,buisness,*args):\n",
    "    print(\"the winning team is \"+ team)\n",
    "    print(\"business was \" +buisness)\n",
    "    print(args)\n",
    "\n",
    "display_result(\"real madrid\", \"48664$\",\"by penalty\",\"captain:salah\")\n",
    "    "
   ]
  },
  {
   "cell_type": "code",
   "execution_count": 56,
   "id": "920f4360-b2d3-4e03-b699-e5294e4b9ac5",
   "metadata": {},
   "outputs": [
    {
     "name": "stdout",
     "output_type": "stream",
     "text": [
      "asif 20 employee\n"
     ]
    }
   ],
   "source": [
    "def details(name, age=\"20\",status=\"employee\"):\n",
    "    print(name,age,status)\n",
    "\n",
    "details(\"asif\")"
   ]
  },
  {
   "cell_type": "code",
   "execution_count": 60,
   "id": "a00e1702-fdaf-4e25-94a0-78d40d781c84",
   "metadata": {},
   "outputs": [],
   "source": [
    "uppercase , lowercase= checkstring(\"zainHKhkcsjl\")"
   ]
  },
  {
   "cell_type": "code",
   "execution_count": 62,
   "id": "5847def3-804e-4c3e-8544-ccc2c3ad6f3b",
   "metadata": {},
   "outputs": [
    {
     "name": "stdout",
     "output_type": "stream",
     "text": [
      "2 10\n"
     ]
    }
   ],
   "source": [
    "print(uppercase,lowercase)"
   ]
  },
  {
   "cell_type": "code",
   "execution_count": 64,
   "id": "8751b825-1362-472e-a488-092825bfdfc6",
   "metadata": {},
   "outputs": [
    {
     "ename": "SyntaxError",
     "evalue": "incomplete input (1010610010.py, line 1)",
     "output_type": "error",
     "traceback": [
      "\u001b[1;36m  Cell \u001b[1;32mIn[64], line 1\u001b[1;36m\u001b[0m\n\u001b[1;33m    def list_mul():\u001b[0m\n\u001b[1;37m                   ^\u001b[0m\n\u001b[1;31mSyntaxError\u001b[0m\u001b[1;31m:\u001b[0m incomplete input\n"
     ]
    }
   ],
   "source": [
    "def list_mul():"
   ]
  },
  {
   "cell_type": "code",
   "execution_count": 70,
   "id": "f89f51b3-98ce-455d-976d-1c655f8d889b",
   "metadata": {},
   "outputs": [
    {
     "ename": "AttributeError",
     "evalue": "'str' object has no attribute 'reverse'",
     "output_type": "error",
     "traceback": [
      "\u001b[1;31m---------------------------------------------------------------------------\u001b[0m",
      "\u001b[1;31mAttributeError\u001b[0m                            Traceback (most recent call last)",
      "Cell \u001b[1;32mIn[70], line 5\u001b[0m\n\u001b[0;32m      2\u001b[0m     result \u001b[38;5;241m=\u001b[39mchar\u001b[38;5;241m.\u001b[39mreverse\n\u001b[0;32m      3\u001b[0m     \u001b[38;5;28mprint\u001b[39m(result)\n\u001b[1;32m----> 5\u001b[0m opp(\u001b[38;5;124m\"\u001b[39m\u001b[38;5;124mabcdefgh\u001b[39m\u001b[38;5;124m\"\u001b[39m)\n",
      "Cell \u001b[1;32mIn[70], line 2\u001b[0m, in \u001b[0;36mopp\u001b[1;34m(char)\u001b[0m\n\u001b[0;32m      1\u001b[0m \u001b[38;5;28;01mdef\u001b[39;00m \u001b[38;5;21mopp\u001b[39m(char):\n\u001b[1;32m----> 2\u001b[0m     result \u001b[38;5;241m=\u001b[39mchar\u001b[38;5;241m.\u001b[39mreverse\n\u001b[0;32m      3\u001b[0m     \u001b[38;5;28mprint\u001b[39m(result)\n",
      "\u001b[1;31mAttributeError\u001b[0m: 'str' object has no attribute 'reverse'"
     ]
    }
   ],
   "source": [
    "def opp(char):\n",
    "    result =char.reverse\n",
    "    print(result)\n",
    "\n",
    "opp(\"abcdefgh\")\n",
    "    "
   ]
  },
  {
   "cell_type": "code",
   "execution_count": 80,
   "id": "2ad43ff6-f981-48ce-b1f7-afffd5d488c2",
   "metadata": {},
   "outputs": [
    {
     "name": "stdout",
     "output_type": "stream",
     "text": [
      "hgfedcba\n"
     ]
    }
   ],
   "source": [
    "def opp(str):\n",
    "    result = str[::-1] # This is the correct way to reverse a string in Python\n",
    "    print(result)\n",
    "\n",
    "opp(\"abcdefgh\")"
   ]
  },
  {
   "cell_type": "markdown",
   "id": "30d5ba00-52c0-4aad-a350-80b6988fec12",
   "metadata": {},
   "source": [
    "# local vs global "
   ]
  },
  {
   "cell_type": "code",
   "execution_count": 92,
   "id": "b73a5d50-b42f-43eb-80a9-0b4432ab9152",
   "metadata": {},
   "outputs": [
    {
     "name": "stdout",
     "output_type": "stream",
     "text": [
      "zain\n"
     ]
    },
    {
     "data": {
      "text/plain": [
       "'zain'"
      ]
     },
     "execution_count": 92,
     "metadata": {},
     "output_type": "execute_result"
    }
   ],
   "source": [
    "def details():\n",
    "    global name\n",
    "    name=\"zain\"\n",
    "    ide=\"338636\"\n",
    "    print(name)\n",
    "\n",
    "details()\n",
    "name"
   ]
  },
  {
   "cell_type": "code",
   "execution_count": 100,
   "id": "3894b37b-7a89-4645-9932-2bcc2c2c475f",
   "metadata": {},
   "outputs": [
    {
     "name": "stdout",
     "output_type": "stream",
     "text": [
      "hello\n"
     ]
    },
    {
     "ename": "TypeError",
     "evalue": "can only concatenate str (not \"NoneType\") to str",
     "output_type": "error",
     "traceback": [
      "\u001b[1;31m---------------------------------------------------------------------------\u001b[0m",
      "\u001b[1;31mTypeError\u001b[0m                                 Traceback (most recent call last)",
      "Cell \u001b[1;32mIn[100], line 7\u001b[0m\n\u001b[0;32m      4\u001b[0m \u001b[38;5;28;01mdef\u001b[39;00m \u001b[38;5;21mname\u001b[39m(name):\n\u001b[0;32m      5\u001b[0m     \u001b[38;5;28mprint\u001b[39m(name \u001b[38;5;241m+\u001b[39m greet())  \u001b[38;5;66;03m# Note the () to call the function\u001b[39;00m\n\u001b[1;32m----> 7\u001b[0m name(\u001b[38;5;124m\"\u001b[39m\u001b[38;5;124mJohn\u001b[39m\u001b[38;5;124m\"\u001b[39m)\n",
      "Cell \u001b[1;32mIn[100], line 5\u001b[0m, in \u001b[0;36mname\u001b[1;34m(name)\u001b[0m\n\u001b[0;32m      4\u001b[0m \u001b[38;5;28;01mdef\u001b[39;00m \u001b[38;5;21mname\u001b[39m(name):\n\u001b[1;32m----> 5\u001b[0m     \u001b[38;5;28mprint\u001b[39m(name \u001b[38;5;241m+\u001b[39m greet())\n",
      "\u001b[1;31mTypeError\u001b[0m: can only concatenate str (not \"NoneType\") to str"
     ]
    }
   ],
   "source": [
    "def greet():\n",
    "    print(\"hello\")\n",
    "\n",
    "def name(name):\n",
    "    print(name + greet())  # Note the () to call the function\n",
    "\n",
    "name(\"John\")  # Correct way to call the name function"
   ]
  },
  {
   "cell_type": "code",
   "execution_count": null,
   "id": "1ba46203-dc2f-4dfc-841f-0521cb851fcd",
   "metadata": {},
   "outputs": [],
   "source": []
  }
 ],
 "metadata": {
  "kernelspec": {
   "display_name": "Python 3 (ipykernel)",
   "language": "python",
   "name": "python3"
  },
  "language_info": {
   "codemirror_mode": {
    "name": "ipython",
    "version": 3
   },
   "file_extension": ".py",
   "mimetype": "text/x-python",
   "name": "python",
   "nbconvert_exporter": "python",
   "pygments_lexer": "ipython3",
   "version": "3.12.7"
  }
 },
 "nbformat": 4,
 "nbformat_minor": 5
}
