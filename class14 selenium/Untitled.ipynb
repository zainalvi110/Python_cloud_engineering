{
 "cells": [
  {
   "cell_type": "markdown",
   "id": "ca8fd32c-8193-4bcc-9725-8e39c183b3a4",
   "metadata": {},
   "source": [
    "###  selenium\n"
   ]
  },
  {
   "cell_type": "markdown",
   "id": "d02f7149-04bc-4760-a1ad-2e4ae2b24baa",
   "metadata": {},
   "source": [
    "pip install selenium"
   ]
  },
  {
   "cell_type": "code",
   "execution_count": 8,
   "id": "53b04c3d-6141-4f10-a444-d82d2e65900d",
   "metadata": {},
   "outputs": [],
   "source": [
    "from selenium import webdriver"
   ]
  },
  {
   "cell_type": "code",
   "execution_count": 10,
   "id": "b1a2f283-c076-4d72-9152-e6b54cbe8a8f",
   "metadata": {},
   "outputs": [],
   "source": [
    "from selenium .webdriver.common.by import By\n",
    "from selenium.webdriver.chrome.options import Options"
   ]
  },
  {
   "cell_type": "code",
   "execution_count": null,
   "id": "fbd03c27-c1f7-4459-802e-ac0c79cb8c63",
   "metadata": {},
   "outputs": [],
   "source": [
    "# path='chromedriver'\n",
    "# driver = webdriver.ChromeService"
   ]
  },
  {
   "cell_type": "code",
   "execution_count": 12,
   "id": "729506c1-fe7b-4baa-b978-bff842d4f1ee",
   "metadata": {},
   "outputs": [],
   "source": [
    "options = Options()\n",
    "options.add_argument('--start-maximized')\n",
    "driver = webdriver.Chrome(options=options)"
   ]
  },
  {
   "cell_type": "code",
   "execution_count": 34,
   "id": "2851464a-b2ae-46da-bbb5-d9435048143f",
   "metadata": {},
   "outputs": [
    {
     "ename": "NoSuchWindowException",
     "evalue": "Message: no such window: target window already closed\nfrom unknown error: web view not found\n  (Session info: chrome=131.0.6778.265)\nStacktrace:\n\tGetHandleVerifier [0x010FFD53+23747]\n\t(No symbol) [0x01087D54]\n\t(No symbol) [0x00F5BE53]\n\t(No symbol) [0x00F3D91B]\n\t(No symbol) [0x00FC7EFF]\n\t(No symbol) [0x00FDAD49]\n\t(No symbol) [0x00FC1B96]\n\t(No symbol) [0x00F93F3C]\n\t(No symbol) [0x00F94EBD]\n\tGetHandleVerifier [0x013DAC73+3017699]\n\tGetHandleVerifier [0x013EB93B+3086507]\n\tGetHandleVerifier [0x013E40F2+3055714]\n\tGetHandleVerifier [0x01195AF0+637536]\n\t(No symbol) [0x01090A5D]\n\t(No symbol) [0x0108DA28]\n\t(No symbol) [0x0108DBC5]\n\t(No symbol) [0x010807F0]\n\tBaseThreadInitThunk [0x754EFCC9+25]\n\tRtlGetAppContainerNamedObjectPath [0x7765809E+286]\n\tRtlGetAppContainerNamedObjectPath [0x7765806E+238]\n",
     "output_type": "error",
     "traceback": [
      "\u001b[1;31m---------------------------------------------------------------------------\u001b[0m",
      "\u001b[1;31mNoSuchWindowException\u001b[0m                     Traceback (most recent call last)",
      "Cell \u001b[1;32mIn[34], line 1\u001b[0m\n\u001b[1;32m----> 1\u001b[0m driver\u001b[38;5;241m.\u001b[39mget(\u001b[38;5;124m'\u001b[39m\u001b[38;5;124mhttps://www.geeksforgeeks.org/how-to-use-selenium-and-selenium-webdriver-manager-to-login-to-a-website-with-python/\u001b[39m\u001b[38;5;124m'\u001b[39m)\n",
      "File \u001b[1;32m~\\anaconda3\\Lib\\site-packages\\selenium\\webdriver\\remote\\webdriver.py:393\u001b[0m, in \u001b[0;36mWebDriver.get\u001b[1;34m(self, url)\u001b[0m\n\u001b[0;32m    391\u001b[0m \u001b[38;5;28;01mdef\u001b[39;00m \u001b[38;5;21mget\u001b[39m(\u001b[38;5;28mself\u001b[39m, url: \u001b[38;5;28mstr\u001b[39m) \u001b[38;5;241m-\u001b[39m\u001b[38;5;241m>\u001b[39m \u001b[38;5;28;01mNone\u001b[39;00m:\n\u001b[0;32m    392\u001b[0m \u001b[38;5;250m    \u001b[39m\u001b[38;5;124;03m\"\"\"Loads a web page in the current browser session.\"\"\"\u001b[39;00m\n\u001b[1;32m--> 393\u001b[0m     \u001b[38;5;28mself\u001b[39m\u001b[38;5;241m.\u001b[39mexecute(Command\u001b[38;5;241m.\u001b[39mGET, {\u001b[38;5;124m\"\u001b[39m\u001b[38;5;124murl\u001b[39m\u001b[38;5;124m\"\u001b[39m: url})\n",
      "File \u001b[1;32m~\\anaconda3\\Lib\\site-packages\\selenium\\webdriver\\remote\\webdriver.py:384\u001b[0m, in \u001b[0;36mWebDriver.execute\u001b[1;34m(self, driver_command, params)\u001b[0m\n\u001b[0;32m    382\u001b[0m response \u001b[38;5;241m=\u001b[39m \u001b[38;5;28mself\u001b[39m\u001b[38;5;241m.\u001b[39mcommand_executor\u001b[38;5;241m.\u001b[39mexecute(driver_command, params)\n\u001b[0;32m    383\u001b[0m \u001b[38;5;28;01mif\u001b[39;00m response:\n\u001b[1;32m--> 384\u001b[0m     \u001b[38;5;28mself\u001b[39m\u001b[38;5;241m.\u001b[39merror_handler\u001b[38;5;241m.\u001b[39mcheck_response(response)\n\u001b[0;32m    385\u001b[0m     response[\u001b[38;5;124m\"\u001b[39m\u001b[38;5;124mvalue\u001b[39m\u001b[38;5;124m\"\u001b[39m] \u001b[38;5;241m=\u001b[39m \u001b[38;5;28mself\u001b[39m\u001b[38;5;241m.\u001b[39m_unwrap_value(response\u001b[38;5;241m.\u001b[39mget(\u001b[38;5;124m\"\u001b[39m\u001b[38;5;124mvalue\u001b[39m\u001b[38;5;124m\"\u001b[39m, \u001b[38;5;28;01mNone\u001b[39;00m))\n\u001b[0;32m    386\u001b[0m     \u001b[38;5;28;01mreturn\u001b[39;00m response\n",
      "File \u001b[1;32m~\\anaconda3\\Lib\\site-packages\\selenium\\webdriver\\remote\\errorhandler.py:232\u001b[0m, in \u001b[0;36mErrorHandler.check_response\u001b[1;34m(self, response)\u001b[0m\n\u001b[0;32m    230\u001b[0m         alert_text \u001b[38;5;241m=\u001b[39m value[\u001b[38;5;124m\"\u001b[39m\u001b[38;5;124malert\u001b[39m\u001b[38;5;124m\"\u001b[39m]\u001b[38;5;241m.\u001b[39mget(\u001b[38;5;124m\"\u001b[39m\u001b[38;5;124mtext\u001b[39m\u001b[38;5;124m\"\u001b[39m)\n\u001b[0;32m    231\u001b[0m     \u001b[38;5;28;01mraise\u001b[39;00m exception_class(message, screen, stacktrace, alert_text)  \u001b[38;5;66;03m# type: ignore[call-arg]  # mypy is not smart enough here\u001b[39;00m\n\u001b[1;32m--> 232\u001b[0m \u001b[38;5;28;01mraise\u001b[39;00m exception_class(message, screen, stacktrace)\n",
      "\u001b[1;31mNoSuchWindowException\u001b[0m: Message: no such window: target window already closed\nfrom unknown error: web view not found\n  (Session info: chrome=131.0.6778.265)\nStacktrace:\n\tGetHandleVerifier [0x010FFD53+23747]\n\t(No symbol) [0x01087D54]\n\t(No symbol) [0x00F5BE53]\n\t(No symbol) [0x00F3D91B]\n\t(No symbol) [0x00FC7EFF]\n\t(No symbol) [0x00FDAD49]\n\t(No symbol) [0x00FC1B96]\n\t(No symbol) [0x00F93F3C]\n\t(No symbol) [0x00F94EBD]\n\tGetHandleVerifier [0x013DAC73+3017699]\n\tGetHandleVerifier [0x013EB93B+3086507]\n\tGetHandleVerifier [0x013E40F2+3055714]\n\tGetHandleVerifier [0x01195AF0+637536]\n\t(No symbol) [0x01090A5D]\n\t(No symbol) [0x0108DA28]\n\t(No symbol) [0x0108DBC5]\n\t(No symbol) [0x010807F0]\n\tBaseThreadInitThunk [0x754EFCC9+25]\n\tRtlGetAppContainerNamedObjectPath [0x7765809E+286]\n\tRtlGetAppContainerNamedObjectPath [0x7765806E+238]\n"
     ]
    }
   ],
   "source": [
    "driver.get('https://www.geeksforgeeks.org/how-to-use-selenium-and-selenium-webdriver-manager-to-login-to-a-website-with-python/')"
   ]
  },
  {
   "cell_type": "code",
   "execution_count": 18,
   "id": "6d8a0e3a-7c12-441b-afe5-baab71156e6d",
   "metadata": {},
   "outputs": [
    {
     "name": "stdout",
     "output_type": "stream",
     "text": [
      "Collecting webdriver-manager\n",
      "  Downloading webdriver_manager-4.0.2-py2.py3-none-any.whl.metadata (12 kB)\n",
      "Requirement already satisfied: requests in c:\\users\\zain\\anaconda3\\lib\\site-packages (from webdriver-manager) (2.32.3)\n",
      "Requirement already satisfied: python-dotenv in c:\\users\\zain\\anaconda3\\lib\\site-packages (from webdriver-manager) (0.21.0)\n",
      "Requirement already satisfied: packaging in c:\\users\\zain\\anaconda3\\lib\\site-packages (from webdriver-manager) (24.1)\n",
      "Requirement already satisfied: charset-normalizer<4,>=2 in c:\\users\\zain\\anaconda3\\lib\\site-packages (from requests->webdriver-manager) (3.3.2)\n",
      "Requirement already satisfied: idna<4,>=2.5 in c:\\users\\zain\\anaconda3\\lib\\site-packages (from requests->webdriver-manager) (3.7)\n",
      "Requirement already satisfied: urllib3<3,>=1.21.1 in c:\\users\\zain\\anaconda3\\lib\\site-packages (from requests->webdriver-manager) (2.2.3)\n",
      "Requirement already satisfied: certifi>=2017.4.17 in c:\\users\\zain\\anaconda3\\lib\\site-packages (from requests->webdriver-manager) (2024.8.30)\n",
      "Downloading webdriver_manager-4.0.2-py2.py3-none-any.whl (27 kB)\n",
      "Installing collected packages: webdriver-manager\n",
      "Successfully installed webdriver-manager-4.0.2\n",
      "Note: you may need to restart the kernel to use updated packages.\n"
     ]
    }
   ],
   "source": [
    "pip install webdriver-manager"
   ]
  },
  {
   "cell_type": "code",
   "execution_count": 16,
   "id": "c0464508-3003-4873-a57c-cb6b8359342d",
   "metadata": {},
   "outputs": [],
   "source": [
    "from selenium.webdriver.chrome.service import Service "
   ]
  },
  {
   "cell_type": "code",
   "execution_count": 18,
   "id": "f7468cb6-f761-48e9-a034-222d073cb4d1",
   "metadata": {},
   "outputs": [],
   "source": [
    "from webdriver_manager.chrome import ChromeDriverManager"
   ]
  },
  {
   "cell_type": "code",
   "execution_count": 22,
   "id": "35954a8f-2583-46cf-bb9d-c73561d6bfd6",
   "metadata": {},
   "outputs": [],
   "source": [
    "driver = webdriver.Chrome(service=Service(ChromeDriverManager().install()))"
   ]
  },
  {
   "cell_type": "code",
   "execution_count": 32,
   "id": "2bbb6233-1e43-4056-af10-cf0e12951f9a",
   "metadata": {},
   "outputs": [
    {
     "ename": "NoSuchWindowException",
     "evalue": "Message: no such window: target window already closed\nfrom unknown error: web view not found\n  (Session info: chrome=131.0.6778.265)\nStacktrace:\n\tGetHandleVerifier [0x010FFD53+23747]\n\t(No symbol) [0x01087D54]\n\t(No symbol) [0x00F5BE53]\n\t(No symbol) [0x00F3D91B]\n\t(No symbol) [0x00FC7EFF]\n\t(No symbol) [0x00FDAD49]\n\t(No symbol) [0x00FC1B96]\n\t(No symbol) [0x00F93F3C]\n\t(No symbol) [0x00F94EBD]\n\tGetHandleVerifier [0x013DAC73+3017699]\n\tGetHandleVerifier [0x013EB93B+3086507]\n\tGetHandleVerifier [0x013E40F2+3055714]\n\tGetHandleVerifier [0x01195AF0+637536]\n\t(No symbol) [0x01090A5D]\n\t(No symbol) [0x0108DA28]\n\t(No symbol) [0x0108DBC5]\n\t(No symbol) [0x010807F0]\n\tBaseThreadInitThunk [0x754EFCC9+25]\n\tRtlGetAppContainerNamedObjectPath [0x7765809E+286]\n\tRtlGetAppContainerNamedObjectPath [0x7765806E+238]\n",
     "output_type": "error",
     "traceback": [
      "\u001b[1;31m---------------------------------------------------------------------------\u001b[0m",
      "\u001b[1;31mNoSuchWindowException\u001b[0m                     Traceback (most recent call last)",
      "Cell \u001b[1;32mIn[32], line 2\u001b[0m\n\u001b[0;32m      1\u001b[0m url \u001b[38;5;241m=\u001b[39m\u001b[38;5;124m'\u001b[39m\u001b[38;5;124mhttps://www.geeksforgeeks.org/how-to-use-selenium-and-selenium-webdriver-manager-to-login-to-a-website-with-python/\u001b[39m\u001b[38;5;124m'\u001b[39m\n\u001b[1;32m----> 2\u001b[0m driver\u001b[38;5;241m.\u001b[39mget(url)\n",
      "File \u001b[1;32m~\\anaconda3\\Lib\\site-packages\\selenium\\webdriver\\remote\\webdriver.py:393\u001b[0m, in \u001b[0;36mWebDriver.get\u001b[1;34m(self, url)\u001b[0m\n\u001b[0;32m    391\u001b[0m \u001b[38;5;28;01mdef\u001b[39;00m \u001b[38;5;21mget\u001b[39m(\u001b[38;5;28mself\u001b[39m, url: \u001b[38;5;28mstr\u001b[39m) \u001b[38;5;241m-\u001b[39m\u001b[38;5;241m>\u001b[39m \u001b[38;5;28;01mNone\u001b[39;00m:\n\u001b[0;32m    392\u001b[0m \u001b[38;5;250m    \u001b[39m\u001b[38;5;124;03m\"\"\"Loads a web page in the current browser session.\"\"\"\u001b[39;00m\n\u001b[1;32m--> 393\u001b[0m     \u001b[38;5;28mself\u001b[39m\u001b[38;5;241m.\u001b[39mexecute(Command\u001b[38;5;241m.\u001b[39mGET, {\u001b[38;5;124m\"\u001b[39m\u001b[38;5;124murl\u001b[39m\u001b[38;5;124m\"\u001b[39m: url})\n",
      "File \u001b[1;32m~\\anaconda3\\Lib\\site-packages\\selenium\\webdriver\\remote\\webdriver.py:384\u001b[0m, in \u001b[0;36mWebDriver.execute\u001b[1;34m(self, driver_command, params)\u001b[0m\n\u001b[0;32m    382\u001b[0m response \u001b[38;5;241m=\u001b[39m \u001b[38;5;28mself\u001b[39m\u001b[38;5;241m.\u001b[39mcommand_executor\u001b[38;5;241m.\u001b[39mexecute(driver_command, params)\n\u001b[0;32m    383\u001b[0m \u001b[38;5;28;01mif\u001b[39;00m response:\n\u001b[1;32m--> 384\u001b[0m     \u001b[38;5;28mself\u001b[39m\u001b[38;5;241m.\u001b[39merror_handler\u001b[38;5;241m.\u001b[39mcheck_response(response)\n\u001b[0;32m    385\u001b[0m     response[\u001b[38;5;124m\"\u001b[39m\u001b[38;5;124mvalue\u001b[39m\u001b[38;5;124m\"\u001b[39m] \u001b[38;5;241m=\u001b[39m \u001b[38;5;28mself\u001b[39m\u001b[38;5;241m.\u001b[39m_unwrap_value(response\u001b[38;5;241m.\u001b[39mget(\u001b[38;5;124m\"\u001b[39m\u001b[38;5;124mvalue\u001b[39m\u001b[38;5;124m\"\u001b[39m, \u001b[38;5;28;01mNone\u001b[39;00m))\n\u001b[0;32m    386\u001b[0m     \u001b[38;5;28;01mreturn\u001b[39;00m response\n",
      "File \u001b[1;32m~\\anaconda3\\Lib\\site-packages\\selenium\\webdriver\\remote\\errorhandler.py:232\u001b[0m, in \u001b[0;36mErrorHandler.check_response\u001b[1;34m(self, response)\u001b[0m\n\u001b[0;32m    230\u001b[0m         alert_text \u001b[38;5;241m=\u001b[39m value[\u001b[38;5;124m\"\u001b[39m\u001b[38;5;124malert\u001b[39m\u001b[38;5;124m\"\u001b[39m]\u001b[38;5;241m.\u001b[39mget(\u001b[38;5;124m\"\u001b[39m\u001b[38;5;124mtext\u001b[39m\u001b[38;5;124m\"\u001b[39m)\n\u001b[0;32m    231\u001b[0m     \u001b[38;5;28;01mraise\u001b[39;00m exception_class(message, screen, stacktrace, alert_text)  \u001b[38;5;66;03m# type: ignore[call-arg]  # mypy is not smart enough here\u001b[39;00m\n\u001b[1;32m--> 232\u001b[0m \u001b[38;5;28;01mraise\u001b[39;00m exception_class(message, screen, stacktrace)\n",
      "\u001b[1;31mNoSuchWindowException\u001b[0m: Message: no such window: target window already closed\nfrom unknown error: web view not found\n  (Session info: chrome=131.0.6778.265)\nStacktrace:\n\tGetHandleVerifier [0x010FFD53+23747]\n\t(No symbol) [0x01087D54]\n\t(No symbol) [0x00F5BE53]\n\t(No symbol) [0x00F3D91B]\n\t(No symbol) [0x00FC7EFF]\n\t(No symbol) [0x00FDAD49]\n\t(No symbol) [0x00FC1B96]\n\t(No symbol) [0x00F93F3C]\n\t(No symbol) [0x00F94EBD]\n\tGetHandleVerifier [0x013DAC73+3017699]\n\tGetHandleVerifier [0x013EB93B+3086507]\n\tGetHandleVerifier [0x013E40F2+3055714]\n\tGetHandleVerifier [0x01195AF0+637536]\n\t(No symbol) [0x01090A5D]\n\t(No symbol) [0x0108DA28]\n\t(No symbol) [0x0108DBC5]\n\t(No symbol) [0x010807F0]\n\tBaseThreadInitThunk [0x754EFCC9+25]\n\tRtlGetAppContainerNamedObjectPath [0x7765809E+286]\n\tRtlGetAppContainerNamedObjectPath [0x7765806E+238]\n"
     ]
    }
   ],
   "source": [
    "url ='https://www.geeksforgeeks.org/how-to-use-selenium-and-selenium-webdriver-manager-to-login-to-a-website-with-python/'\n",
    "driver.get(url)"
   ]
  },
  {
   "cell_type": "code",
   "execution_count": null,
   "id": "06f0f38e-ceff-4c56-a18e-65f37ec2e73e",
   "metadata": {},
   "outputs": [],
   "source": []
  }
 ],
 "metadata": {
  "kernelspec": {
   "display_name": "Python 3 (ipykernel)",
   "language": "python",
   "name": "python3"
  },
  "language_info": {
   "codemirror_mode": {
    "name": "ipython",
    "version": 3
   },
   "file_extension": ".py",
   "mimetype": "text/x-python",
   "name": "python",
   "nbconvert_exporter": "python",
   "pygments_lexer": "ipython3",
   "version": "3.12.7"
  }
 },
 "nbformat": 4,
 "nbformat_minor": 5
}
