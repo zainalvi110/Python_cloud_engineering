{
 "cells": [
  {
   "cell_type": "markdown",
   "id": "8938f752-e1e2-4fc5-9b2d-eed38cad1345",
   "metadata": {},
   "source": [
    "# while loop\n"
   ]
  },
  {
   "cell_type": "code",
   "execution_count": 4,
   "id": "e543aa4e-6af5-410b-9dfa-57640c5576ba",
   "metadata": {},
   "outputs": [
    {
     "name": "stdin",
     "output_type": "stream",
     "text": [
      "enter city name:  sukkhur\n"
     ]
    },
    {
     "name": "stdout",
     "output_type": "stream",
     "text": [
      "sukkhur is not clean\n"
     ]
    },
    {
     "name": "stdin",
     "output_type": "stream",
     "text": [
      "enter city name:  karachi\n"
     ]
    },
    {
     "name": "stdout",
     "output_type": "stream",
     "text": [
      "karachi is a clean city\n"
     ]
    }
   ],
   "source": [
    "clean_cities =['karachi','lahore','islamabad']\n",
    "temp = True\n",
    "while temp:\n",
    "    city = input(\"enter city name: \")\n",
    "    if city in clean_cities:\n",
    "        print(f'{city} is a clean city')\n",
    "        temp=False\n",
    "    else:\n",
    "        print(f'{city} is not clean')\n",
    "        "
   ]
  },
  {
   "cell_type": "code",
   "execution_count": null,
   "id": "a4588354-08f7-4177-a830-75318847a529",
   "metadata": {},
   "outputs": [],
   "source": [
    "nm= int(input(\"enter a nm\"))\n",
    "counter=1\n",
    "temp= True\n",
    "while temp:\n",
    "    fac=nm*counter\n",
    "    counter+=1\n",
    "    if nm!=0:\n",
    "        print(fac)\n",
    "        temp=False\n",
    "    else:\n",
    "        print(\"input a valid nm\")"
   ]
  },
  {
   "cell_type": "code",
   "execution_count": null,
   "id": "dbbd7650-13df-41f2-995f-3a56fe8f581c",
   "metadata": {},
   "outputs": [],
   "source": [
    "nm = int(input(\"Enter a number: \"))\n",
    "counter = 1\n",
    "factorial = 1\n",
    "\n",
    "while counter <= nm:\n",
    "    factorial *= counter\n",
    "    counter += 1\n",
    "\n",
    "print(f\"Factorial of {nm} is: {factorial}\")\n"
   ]
  },
  {
   "cell_type": "code",
   "execution_count": null,
   "id": "2601f3a4-7d24-4534-b9a8-64edf8dcf73c",
   "metadata": {},
   "outputs": [],
   "source": [
    "nm = int(input(\"Enter a number: \"))  # Taking input as an integer\n",
    "counter = 1\n",
    "fac = 1  # Initialize factorial variable\n",
    "temp = True\n",
    "\n",
    "while temp:\n",
    "    if nm != 0:\n",
    "        fac *= counter  # Multiply fac by counter\n",
    "        counter += 1\n",
    "        if counter > nm:  # Stop loop when counter exceeds nm\n",
    "            temp = False\n",
    "        print(fac)  # Print the factorial step by step\n",
    "    else:\n",
    "        print(\"Input a valid number\")  # Handle the case for invalid input\n",
    "        temp = False\n"
   ]
  },
  {
   "cell_type": "code",
   "execution_count": null,
   "id": "27e6c26c-cf90-4220-a025-3f8bed484f98",
   "metadata": {},
   "outputs": [],
   "source": [
    "# plaindrome\n",
    "#factorial\n",
    "#print the sum of recent nm when 0 is entered\n"
   ]
  },
  {
   "cell_type": "markdown",
   "id": "fd2e5345-b827-4836-8809-de0cd41c498b",
   "metadata": {},
   "source": [
    "# file handling\n"
   ]
  },
  {
   "cell_type": "markdown",
   "id": "01e292e3-7ab3-461b-ba9f-4327acf36f9e",
   "metadata": {},
   "source": [
    "### data files\n"
   ]
  },
  {
   "cell_type": "code",
   "execution_count": 1,
   "id": "253531e3-ecfd-4c3c-a66e-b1d5c9147756",
   "metadata": {},
   "outputs": [],
   "source": [
    "with open('../class09/file_handilng', 'a') as file:\n",
    "    file.write('writing into file with a as input(append)')"
   ]
  },
  {
   "cell_type": "code",
   "execution_count": 6,
   "id": "bf4df6c3-f4f9-423b-af4e-fc606263a6ad",
   "metadata": {},
   "outputs": [],
   "source": [
    "with open('../class09/file_handilng', 'a') as file:\n",
    "    file.writelines('writing into file with a as input(append)\\n')"
   ]
  },
  {
   "cell_type": "code",
   "execution_count": 8,
   "id": "14a40557-60c8-4dce-af71-d7d9f1648441",
   "metadata": {},
   "outputs": [],
   "source": [
    "with open('../class09/file_handilng', 'w') as file:\n",
    "    file.writelines('writing into file with w as input\\n')"
   ]
  },
  {
   "cell_type": "code",
   "execution_count": 16,
   "id": "30d557a9-189c-45c5-9d0d-99eac5cda799",
   "metadata": {},
   "outputs": [
    {
     "ename": "IndentationError",
     "evalue": "unexpected indent (2920216705.py, line 3)",
     "output_type": "error",
     "traceback": [
      "\u001b[1;36m  Cell \u001b[1;32mIn[16], line 3\u001b[1;36m\u001b[0m\n\u001b[1;33m    print(file_content)\u001b[0m\n\u001b[1;37m    ^\u001b[0m\n\u001b[1;31mIndentationError\u001b[0m\u001b[1;31m:\u001b[0m unexpected indent\n"
     ]
    }
   ],
   "source": [
    "with open('../class09/file_handilng', 'r') as file:\n",
    "   file_content=file.read()\n",
    "    print(file_content)"
   ]
  },
  {
   "cell_type": "code",
   "execution_count": 12,
   "id": "281a2df7-27f5-47aa-b952-636b036917d1",
   "metadata": {},
   "outputs": [
    {
     "ename": "NameError",
     "evalue": "name 'content' is not defined",
     "output_type": "error",
     "traceback": [
      "\u001b[1;31m---------------------------------------------------------------------------\u001b[0m",
      "\u001b[1;31mNameError\u001b[0m                                 Traceback (most recent call last)",
      "Cell \u001b[1;32mIn[12], line 1\u001b[0m\n\u001b[1;32m----> 1\u001b[0m \u001b[38;5;28mprint\u001b[39m(content)\n",
      "\u001b[1;31mNameError\u001b[0m: name 'content' is not defined"
     ]
    }
   ],
   "source": [
    "print(content)"
   ]
  },
  {
   "cell_type": "code",
   "execution_count": 18,
   "id": "cd21c517-5a50-4260-a0f7-87a4c64e0232",
   "metadata": {},
   "outputs": [
    {
     "name": "stdout",
     "output_type": "stream",
     "text": [
      "writing into file with w as input\n",
      "\n"
     ]
    }
   ],
   "source": [
    "with open('../class09/file_handilng', 'r') as file:\n",
    "    file_content = file.read()\n",
    "    print(file_content)"
   ]
  },
  {
   "cell_type": "code",
   "execution_count": 24,
   "id": "d91dfaaf-6252-4524-9960-3dfa74d7c7dd",
   "metadata": {},
   "outputs": [
    {
     "name": "stdout",
     "output_type": "stream",
     "text": [
      "Modified content:\n",
      "writing into file with w as input\n",
      "as [][] and the others[] are now present\n"
     ]
    }
   ],
   "source": [
    "# Read the original file\n",
    "with open('../class09/file_handilng', 'r') as file:\n",
    "    content = file.read()\n",
    "\n",
    "# Replace \"()\" with \"[]\"\n",
    "modified_content = content.replace('()', '[]')\n",
    "\n",
    "# Write the modified content back to the file\n",
    "with open('../class09/file_handilng', 'w') as file:\n",
    "    file.write(modified_content)\n",
    "\n",
    "# Optional: Print the modified content to verify\n",
    "print(\"Modified content:\")\n",
    "print(modified_content)\n",
    "    "
   ]
  },
  {
   "cell_type": "code",
   "execution_count": 32,
   "id": "37f8951f-180e-4ac9-bb0b-3976c72fbacc",
   "metadata": {},
   "outputs": [
    {
     "name": "stdout",
     "output_type": "stream",
     "text": [
      "total lines =2\n"
     ]
    }
   ],
   "source": [
    "with open('../class09/file_handilng', 'r') as file:\n",
    "    content = file.readlines()\n",
    "    counting=len(content)\n",
    "    print(f'total lines ={counting}')"
   ]
  },
  {
   "cell_type": "markdown",
   "id": "a71be8c2-2db5-443d-842f-42a97e6fb48c",
   "metadata": {},
   "source": [
    "#a+\n",
    "#r+\n",
    "#w+ \n",
    "to be done...."
   ]
  },
  {
   "cell_type": "markdown",
   "id": "bfcb68c5-d5c0-4d16-952c-05d9b4f79862",
   "metadata": {},
   "source": [
    "# modules"
   ]
  },
  {
   "cell_type": "code",
   "execution_count": 7,
   "id": "423fb1b2-4519-4b42-89b3-4743662eba6a",
   "metadata": {},
   "outputs": [
    {
     "name": "stdin",
     "output_type": "stream",
     "text": [
      "enter your salary 45640\n"
     ]
    },
    {
     "name": "stdout",
     "output_type": "stream",
     "text": [
      "45640.15\n"
     ]
    }
   ],
   "source": [
    "from calculation import calculate_salary\n",
    "salary= float(input(\"enter your salary\"))\n",
    "calculate_salary(salary= salary)"
   ]
  },
  {
   "cell_type": "markdown",
   "id": "c8e05b70-357b-41c2-a65e-4adf1f243203",
   "metadata": {},
   "source": [
    "# csvfiles"
   ]
  },
  {
   "cell_type": "code",
   "execution_count": 12,
   "id": "7ad4104a-b621-4c6d-96a6-b78aee4cbc63",
   "metadata": {},
   "outputs": [
    {
     "name": "stdout",
     "output_type": "stream",
     "text": [
      "year,venue,loaction\n",
      "2005,worldcup,india\n",
      "400535,fifa,saudia\n",
      "\n"
     ]
    }
   ],
   "source": [
    "import csv\n",
    "with open('./data.csv')as file:\n",
    "    content=file.read()\n",
    "    print(content)"
   ]
  },
  {
   "cell_type": "code",
   "execution_count": 16,
   "id": "3c2e6660-880e-4f57-97d0-d358445934e7",
   "metadata": {},
   "outputs": [
    {
     "name": "stdout",
     "output_type": "stream",
     "text": [
      "[['year', 'venue', 'loaction'], ['2005', 'worldcup', 'india'], ['400535', 'fifa', 'saudia']]\n"
     ]
    }
   ],
   "source": [
    "import csv\n",
    "with open('./data.csv')as file:\n",
    "    contentobj=csv.reader(file)\n",
    "    content=[]\n",
    "    for line in contentobj:\n",
    "        content.append(line)\n",
    "\n",
    "print(content)"
   ]
  },
  {
   "cell_type": "code",
   "execution_count": 18,
   "id": "6abd0138-9091-409c-b966-fcc4de2593e8",
   "metadata": {},
   "outputs": [
    {
     "data": {
      "text/plain": [
       "['year', 'venue', 'loaction']"
      ]
     },
     "execution_count": 18,
     "metadata": {},
     "output_type": "execute_result"
    }
   ],
   "source": [
    "content[0]"
   ]
  },
  {
   "cell_type": "code",
   "execution_count": 24,
   "id": "9451617a-6871-4324-aa44-33268a0f2631",
   "metadata": {},
   "outputs": [
    {
     "data": {
      "text/plain": [
       "'worldcup'"
      ]
     },
     "execution_count": 24,
     "metadata": {},
     "output_type": "execute_result"
    }
   ],
   "source": [
    "content[1][1]"
   ]
  },
  {
   "cell_type": "code",
   "execution_count": 29,
   "id": "9cc8abd3-4150-4072-a9f0-673f30385cd6",
   "metadata": {},
   "outputs": [
    {
     "name": "stdout",
     "output_type": "stream",
     "text": [
      "<_csv.writer object at 0x0000017395E9A800>\n"
     ]
    }
   ],
   "source": [
    "import csv\n",
    "with open('./data.csv','w')as file:\n",
    "    writerobj=csv.writer(file)\n",
    "    print(writerobj)"
   ]
  },
  {
   "cell_type": "code",
   "execution_count": 39,
   "id": "d274bbe8-438e-41e8-9be0-1b45a74812d1",
   "metadata": {},
   "outputs": [],
   "source": [
    "import csv\n",
    "with open('./data.csv','w')as file:\n",
    "    writerobj=csv.writer(file)\n",
    "    writerobj.writerow(['saylani','zain','338636'])\n",
    "    writerobj.writerow(['saylani','muhammad ali','338693'])"
   ]
  },
  {
   "cell_type": "code",
   "execution_count": null,
   "id": "d575d446-c9bc-4df0-96f5-72efba792662",
   "metadata": {},
   "outputs": [],
   "source": [
    "import csv\n",
    "with open('./data.csv','w')as file:\n",
    "    writerobj=csv.writer(file)\n",
    "    writerobj.writerow(['saylani','zain','338636'])\n",
    "    writerobj.writerow(['saylani','muhammad ali','338693'])"
   ]
  }
 ],
 "metadata": {
  "kernelspec": {
   "display_name": "Python 3 (ipykernel)",
   "language": "python",
   "name": "python3"
  },
  "language_info": {
   "codemirror_mode": {
    "name": "ipython",
    "version": 3
   },
   "file_extension": ".py",
   "mimetype": "text/x-python",
   "name": "python",
   "nbconvert_exporter": "python",
   "pygments_lexer": "ipython3",
   "version": "3.12.7"
  }
 },
 "nbformat": 4,
 "nbformat_minor": 5
}
